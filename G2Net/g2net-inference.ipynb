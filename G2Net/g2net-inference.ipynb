{
 "cells": [
  {
   "cell_type": "code",
   "execution_count": 1,
   "id": "cf1ce134",
   "metadata": {
    "execution": {
     "iopub.execute_input": "2022-11-13T08:53:02.425850Z",
     "iopub.status.busy": "2022-11-13T08:53:02.424521Z",
     "iopub.status.idle": "2022-11-13T08:53:14.672965Z",
     "shell.execute_reply": "2022-11-13T08:53:14.671221Z"
    },
    "papermill": {
     "duration": 12.259402,
     "end_time": "2022-11-13T08:53:14.676372",
     "exception": false,
     "start_time": "2022-11-13T08:53:02.416970",
     "status": "completed"
    },
    "tags": []
   },
   "outputs": [
    {
     "name": "stdout",
     "output_type": "stream",
     "text": [
      "Requirement already satisfied: h5py in /opt/conda/lib/python3.7/site-packages (3.7.0)\r\n",
      "Requirement already satisfied: numpy>=1.14.5 in /opt/conda/lib/python3.7/site-packages (from h5py) (1.21.6)\r\n",
      "\u001b[33mWARNING: Running pip as the 'root' user can result in broken permissions and conflicting behaviour with the system package manager. It is recommended to use a virtual environment instead: https://pip.pypa.io/warnings/venv\u001b[0m\u001b[33m\r\n",
      "\u001b[0mNote: you may need to restart the kernel to use updated packages.\n"
     ]
    }
   ],
   "source": [
    "pip install h5py"
   ]
  },
  {
   "cell_type": "code",
   "execution_count": 2,
   "id": "c75edbc1",
   "metadata": {
    "execution": {
     "iopub.execute_input": "2022-11-13T08:53:14.688120Z",
     "iopub.status.busy": "2022-11-13T08:53:14.687772Z",
     "iopub.status.idle": "2022-11-13T08:53:25.860913Z",
     "shell.execute_reply": "2022-11-13T08:53:25.859435Z"
    },
    "papermill": {
     "duration": 11.182528,
     "end_time": "2022-11-13T08:53:25.864229",
     "exception": false,
     "start_time": "2022-11-13T08:53:14.681701",
     "status": "completed"
    },
    "tags": []
   },
   "outputs": [
    {
     "name": "stdout",
     "output_type": "stream",
     "text": [
      "Collecting timm\r\n",
      "  Downloading timm-0.6.11-py3-none-any.whl (548 kB)\r\n",
      "\u001b[2K     \u001b[90m━━━━━━━━━━━━━━━━━━━━━━━━━━━━━━━━━━━━━━━\u001b[0m \u001b[32m548.7/548.7 kB\u001b[0m \u001b[31m8.9 MB/s\u001b[0m eta \u001b[36m0:00:00\u001b[0m\r\n",
      "\u001b[?25hRequirement already satisfied: pyyaml in /opt/conda/lib/python3.7/site-packages (from timm) (6.0)\r\n",
      "Requirement already satisfied: huggingface-hub in /opt/conda/lib/python3.7/site-packages (from timm) (0.10.1)\r\n",
      "Requirement already satisfied: torchvision in /opt/conda/lib/python3.7/site-packages (from timm) (0.12.0)\r\n",
      "Requirement already satisfied: torch>=1.7 in /opt/conda/lib/python3.7/site-packages (from timm) (1.11.0)\r\n",
      "Requirement already satisfied: typing-extensions in /opt/conda/lib/python3.7/site-packages (from torch>=1.7->timm) (4.1.1)\r\n",
      "Requirement already satisfied: tqdm in /opt/conda/lib/python3.7/site-packages (from huggingface-hub->timm) (4.64.0)\r\n",
      "Requirement already satisfied: importlib-metadata in /opt/conda/lib/python3.7/site-packages (from huggingface-hub->timm) (4.13.0)\r\n",
      "Requirement already satisfied: requests in /opt/conda/lib/python3.7/site-packages (from huggingface-hub->timm) (2.28.1)\r\n",
      "Requirement already satisfied: packaging>=20.9 in /opt/conda/lib/python3.7/site-packages (from huggingface-hub->timm) (21.3)\r\n",
      "Requirement already satisfied: filelock in /opt/conda/lib/python3.7/site-packages (from huggingface-hub->timm) (3.7.1)\r\n",
      "Requirement already satisfied: numpy in /opt/conda/lib/python3.7/site-packages (from torchvision->timm) (1.21.6)\r\n",
      "Requirement already satisfied: pillow!=8.3.*,>=5.3.0 in /opt/conda/lib/python3.7/site-packages (from torchvision->timm) (9.1.1)\r\n",
      "Requirement already satisfied: pyparsing!=3.0.5,>=2.0.2 in /opt/conda/lib/python3.7/site-packages (from packaging>=20.9->huggingface-hub->timm) (3.0.9)\r\n",
      "Requirement already satisfied: zipp>=0.5 in /opt/conda/lib/python3.7/site-packages (from importlib-metadata->huggingface-hub->timm) (3.8.0)\r\n",
      "Requirement already satisfied: urllib3<1.27,>=1.21.1 in /opt/conda/lib/python3.7/site-packages (from requests->huggingface-hub->timm) (1.26.12)\r\n",
      "Requirement already satisfied: idna<4,>=2.5 in /opt/conda/lib/python3.7/site-packages (from requests->huggingface-hub->timm) (3.3)\r\n",
      "Requirement already satisfied: certifi>=2017.4.17 in /opt/conda/lib/python3.7/site-packages (from requests->huggingface-hub->timm) (2022.9.24)\r\n",
      "Requirement already satisfied: charset-normalizer<3,>=2 in /opt/conda/lib/python3.7/site-packages (from requests->huggingface-hub->timm) (2.1.0)\r\n",
      "Installing collected packages: timm\r\n",
      "Successfully installed timm-0.6.11\r\n",
      "\u001b[33mWARNING: Running pip as the 'root' user can result in broken permissions and conflicting behaviour with the system package manager. It is recommended to use a virtual environment instead: https://pip.pypa.io/warnings/venv\u001b[0m\u001b[33m\r\n",
      "\u001b[0mNote: you may need to restart the kernel to use updated packages.\n"
     ]
    }
   ],
   "source": [
    "pip install timm"
   ]
  },
  {
   "cell_type": "code",
   "execution_count": 3,
   "id": "d9bcea82",
   "metadata": {
    "execution": {
     "iopub.execute_input": "2022-11-13T08:53:25.877127Z",
     "iopub.status.busy": "2022-11-13T08:53:25.876772Z",
     "iopub.status.idle": "2022-11-13T08:53:29.916851Z",
     "shell.execute_reply": "2022-11-13T08:53:29.915614Z"
    },
    "papermill": {
     "duration": 4.049699,
     "end_time": "2022-11-13T08:53:29.919802",
     "exception": false,
     "start_time": "2022-11-13T08:53:25.870103",
     "status": "completed"
    },
    "tags": []
   },
   "outputs": [],
   "source": [
    "import os\n",
    "import numpy as np\n",
    "import pandas as pd\n",
    "import h5py\n",
    "import timm\n",
    "import matplotlib.pyplot as plt\n",
    "import seaborn\n",
    "import time\n",
    "\n",
    "import torch\n",
    "import torch.nn as nn\n",
    "from torch.utils.data import DataLoader\n",
    "from torch.optim.lr_scheduler import StepLR\n",
    "\n",
    "import warnings\n",
    "warnings.filterwarnings('ignore')\n",
    "\n",
    "from tqdm.auto import tqdm\n",
    "\n",
    "from sklearn.model_selection import KFold\n",
    "from sklearn.metrics import roc_auc_score\n",
    "from timm.scheduler import CosineLRScheduler\n",
    "\n",
    "\n",
    "device = torch.device(\"cuda\" if torch.cuda.is_available() else \"cpu\")\n",
    "di = '/kaggle/input/g2net-detecting-continuous-gravitational-waves'\n",
    "\n",
    "%matplotlib inline"
   ]
  },
  {
   "cell_type": "code",
   "execution_count": 4,
   "id": "05b55732",
   "metadata": {
    "execution": {
     "iopub.execute_input": "2022-11-13T08:53:29.932866Z",
     "iopub.status.busy": "2022-11-13T08:53:29.931744Z",
     "iopub.status.idle": "2022-11-13T08:53:29.962824Z",
     "shell.execute_reply": "2022-11-13T08:53:29.961636Z"
    },
    "papermill": {
     "duration": 0.040216,
     "end_time": "2022-11-13T08:53:29.965476",
     "exception": false,
     "start_time": "2022-11-13T08:53:29.925260",
     "status": "completed"
    },
    "tags": []
   },
   "outputs": [],
   "source": [
    "train_labels = pd.read_csv('../input/g2net-detecting-continuous-gravitational-waves/train_labels.csv')\n",
    "submission = pd.read_csv('../input/g2net-detecting-continuous-gravitational-waves/sample_submission.csv')"
   ]
  },
  {
   "cell_type": "code",
   "execution_count": 5,
   "id": "45be4034",
   "metadata": {
    "execution": {
     "iopub.execute_input": "2022-11-13T08:53:29.978882Z",
     "iopub.status.busy": "2022-11-13T08:53:29.977309Z",
     "iopub.status.idle": "2022-11-13T08:53:29.996696Z",
     "shell.execute_reply": "2022-11-13T08:53:29.995548Z"
    },
    "papermill": {
     "duration": 0.028331,
     "end_time": "2022-11-13T08:53:29.999363",
     "exception": false,
     "start_time": "2022-11-13T08:53:29.971032",
     "status": "completed"
    },
    "tags": []
   },
   "outputs": [
    {
     "data": {
      "text/plain": [
       "1    400\n",
       "0    200\n",
       "Name: target, dtype: int64"
      ]
     },
     "execution_count": 5,
     "metadata": {},
     "output_type": "execute_result"
    }
   ],
   "source": [
    "#Removing the negative labels\n",
    "train_labels = train_labels[train_labels.target>=0]\n",
    "train_labels.target.value_counts()"
   ]
  },
  {
   "cell_type": "code",
   "execution_count": 6,
   "id": "93f2f14c",
   "metadata": {
    "execution": {
     "iopub.execute_input": "2022-11-13T08:53:30.012033Z",
     "iopub.status.busy": "2022-11-13T08:53:30.011111Z",
     "iopub.status.idle": "2022-11-13T08:53:30.017786Z",
     "shell.execute_reply": "2022-11-13T08:53:30.016783Z"
    },
    "papermill": {
     "duration": 0.015117,
     "end_time": "2022-11-13T08:53:30.019938",
     "exception": false,
     "start_time": "2022-11-13T08:53:30.004821",
     "status": "completed"
    },
    "tags": []
   },
   "outputs": [],
   "source": [
    "#defining a configuration\n",
    "class CFG:\n",
    "    model_name = 'tf_efficientnet_b4_ns'\n",
    "    target_size = 1\n",
    "    nfold = 5\n",
    "    batch_size = 16\n",
    "    epochs = 16\n",
    "    num_workers = 2\n",
    "    lr = 1e-3\n",
    "    weight_decay = 1e-6\n",
    "    train = True\n",
    "    seed = 42\n",
    "    score_method = 'roc_auc_score'\n",
    "    scheduler_type = 'CosineLRScheduler'\n",
    "    optimizer_type = 'Adam'\n",
    "    loss_type = 'BCEWithLogitsLoss'\n",
    "    max_grad_norm = 1000\n",
    "    lr_max = 4e-4\n",
    "    epochs_warmup = 1.0"
   ]
  },
  {
   "cell_type": "code",
   "execution_count": 7,
   "id": "8898f71f",
   "metadata": {
    "execution": {
     "iopub.execute_input": "2022-11-13T08:53:30.031817Z",
     "iopub.status.busy": "2022-11-13T08:53:30.030971Z",
     "iopub.status.idle": "2022-11-13T08:53:30.036454Z",
     "shell.execute_reply": "2022-11-13T08:53:30.035534Z"
    },
    "papermill": {
     "duration": 0.01358,
     "end_time": "2022-11-13T08:53:30.038681",
     "exception": false,
     "start_time": "2022-11-13T08:53:30.025101",
     "status": "completed"
    },
    "tags": []
   },
   "outputs": [],
   "source": [
    "def get_criterion():\n",
    "    if CFG.loss_type == 'CrossEntropyLoss':\n",
    "        return nn.CrossEntropyLoss()\n",
    "    if CFG.loss_type == 'BCEWithLogitsLoss':\n",
    "        return nn.BCEWithLogitsLoss()"
   ]
  },
  {
   "cell_type": "code",
   "execution_count": 8,
   "id": "b97abb25",
   "metadata": {
    "execution": {
     "iopub.execute_input": "2022-11-13T08:53:30.050470Z",
     "iopub.status.busy": "2022-11-13T08:53:30.049868Z",
     "iopub.status.idle": "2022-11-13T08:53:30.056268Z",
     "shell.execute_reply": "2022-11-13T08:53:30.055403Z"
    },
    "papermill": {
     "duration": 0.014547,
     "end_time": "2022-11-13T08:53:30.058494",
     "exception": false,
     "start_time": "2022-11-13T08:53:30.043947",
     "status": "completed"
    },
    "tags": []
   },
   "outputs": [],
   "source": [
    "def get_optimizer(model):\n",
    "    if CFG.optimizer_type == 'Adam':\n",
    "        optimizer = torch.optim.Adam(model.parameters(), lr=CFG.lr, weight_decay=CFG.weight_decay, amsgrad=False)\n",
    "    if CFG.optimizer_type == 'AdamW':\n",
    "        optimizer = torch.optim.AdamW(model.parameters(), lr=CFG.lr_max, weight_decay=CFG.weight_decay)\n",
    "    return optimizer"
   ]
  },
  {
   "cell_type": "code",
   "execution_count": 9,
   "id": "a937b18d",
   "metadata": {
    "execution": {
     "iopub.execute_input": "2022-11-13T08:53:30.070401Z",
     "iopub.status.busy": "2022-11-13T08:53:30.069578Z",
     "iopub.status.idle": "2022-11-13T08:53:30.076107Z",
     "shell.execute_reply": "2022-11-13T08:53:30.075195Z"
    },
    "papermill": {
     "duration": 0.014824,
     "end_time": "2022-11-13T08:53:30.078421",
     "exception": false,
     "start_time": "2022-11-13T08:53:30.063597",
     "status": "completed"
    },
    "tags": []
   },
   "outputs": [],
   "source": [
    "def get_scheduler(optimizer, warmup, nsteps):\n",
    "    if CFG.scheduler_type == 'StepLR':\n",
    "        scheduler = StepLR(optimizer, step_size=2, gamma=0.1, verbose=True)\n",
    "    if CFG.scheduler_type == 'CosineLRScheduler':\n",
    "        scheduler = CosineLRScheduler(optimizer,\n",
    "                                      warmup_t=warmup, warmup_lr_init=0.0, warmup_prefix=True,\n",
    "                                      t_initial=(nsteps - warmup), lr_min=1e-6) \n",
    "    return scheduler"
   ]
  },
  {
   "cell_type": "code",
   "execution_count": 10,
   "id": "67130cec",
   "metadata": {
    "execution": {
     "iopub.execute_input": "2022-11-13T08:53:30.092401Z",
     "iopub.status.busy": "2022-11-13T08:53:30.091239Z",
     "iopub.status.idle": "2022-11-13T08:53:30.097364Z",
     "shell.execute_reply": "2022-11-13T08:53:30.096384Z"
    },
    "papermill": {
     "duration": 0.015883,
     "end_time": "2022-11-13T08:53:30.099549",
     "exception": false,
     "start_time": "2022-11-13T08:53:30.083666",
     "status": "completed"
    },
    "tags": []
   },
   "outputs": [],
   "source": [
    "def get_score(y_true, y_pred):\n",
    "    if CFG.score_method == \"roc_auc_score\":\n",
    "        score = roc_auc_score(y_true, y_pred)\n",
    "    if CFG.score_method == \"accuracy_score\":\n",
    "        score = accuracy_score(y_true, y_pred)\n",
    "    return score"
   ]
  },
  {
   "cell_type": "code",
   "execution_count": 11,
   "id": "9e036152",
   "metadata": {
    "execution": {
     "iopub.execute_input": "2022-11-13T08:53:30.111416Z",
     "iopub.status.busy": "2022-11-13T08:53:30.111075Z",
     "iopub.status.idle": "2022-11-13T08:53:30.121922Z",
     "shell.execute_reply": "2022-11-13T08:53:30.120974Z"
    },
    "papermill": {
     "duration": 0.01943,
     "end_time": "2022-11-13T08:53:30.124196",
     "exception": false,
     "start_time": "2022-11-13T08:53:30.104766",
     "status": "completed"
    },
    "tags": []
   },
   "outputs": [],
   "source": [
    "class Dataset(torch.utils.data.Dataset):\n",
    "    \"\"\"\n",
    "    dataset = Dataset(data_type, df)\n",
    "\n",
    "    img, y = dataset[i]\n",
    "      img (np.float32): 2 x 360 x 128\n",
    "      y (np.float32): label 0 or 1\n",
    "    \"\"\"\n",
    "    def __init__(self, data_type, df):\n",
    "        self.data_type = data_type\n",
    "        self.df = df\n",
    "\n",
    "    def __len__(self):\n",
    "        return len(self.df)\n",
    "\n",
    "    def __getitem__(self, i):\n",
    "        \"\"\"\n",
    "        i (int): get ith data\n",
    "        \"\"\"\n",
    "        r = self.df.iloc[i]\n",
    "        y = np.float32(r.target)\n",
    "        file_id = r.id\n",
    "\n",
    "        img = np.empty((2, 360, 128), dtype=np.float32)\n",
    "\n",
    "        filename = '%s/%s/%s.hdf5' % (di, self.data_type, file_id)\n",
    "        with h5py.File(filename, 'r') as f:\n",
    "            g = f[file_id]\n",
    "\n",
    "            for ch, s in enumerate(['H1', 'L1']):\n",
    "                a = g[s]['SFTs'][:, :4096] * 1e22  # Fourier coefficient complex64\n",
    "\n",
    "                p = a.real**2 + a.imag**2  # power\n",
    "                p /= np.mean(p)  # normalize\n",
    "                p = np.mean(p.reshape(360, 128, 32), axis=2)  # compress 4096 -> 128\n",
    "\n",
    "                img[ch] = p\n",
    "\n",
    "        return img, y"
   ]
  },
  {
   "cell_type": "code",
   "execution_count": 12,
   "id": "076a38ff",
   "metadata": {
    "execution": {
     "iopub.execute_input": "2022-11-13T08:53:30.136115Z",
     "iopub.status.busy": "2022-11-13T08:53:30.135326Z",
     "iopub.status.idle": "2022-11-13T08:53:30.992882Z",
     "shell.execute_reply": "2022-11-13T08:53:30.991724Z"
    },
    "papermill": {
     "duration": 0.867078,
     "end_time": "2022-11-13T08:53:30.996383",
     "exception": false,
     "start_time": "2022-11-13T08:53:30.129305",
     "status": "completed"
    },
    "tags": []
   },
   "outputs": [
    {
     "data": {
      "image/png": "[encoded data removed]",
      "text/plain": [
       "<Figure size 576x216 with 2 Axes>"
      ]
     },
     "metadata": {
      "needs_background": "light"
     },
     "output_type": "display_data"
    }
   ],
   "source": [
    "dataset = Dataset('train', train_labels)\n",
    "img, y = dataset[10]\n",
    "\n",
    "plt.figure(figsize=(8, 3))\n",
    "plt.title('Spectrogram')\n",
    "plt.xlabel('time')\n",
    "plt.ylabel('frequency')\n",
    "plt.imshow(img[0, 300:360]) # zooming in for dataset[10]\n",
    "plt.colorbar()\n",
    "plt.show()"
   ]
  },
  {
   "cell_type": "code",
   "execution_count": 13,
   "id": "3f39819a",
   "metadata": {
    "execution": {
     "iopub.execute_input": "2022-11-13T08:53:31.012990Z",
     "iopub.status.busy": "2022-11-13T08:53:31.012622Z",
     "iopub.status.idle": "2022-11-13T08:53:31.019308Z",
     "shell.execute_reply": "2022-11-13T08:53:31.018110Z"
    },
    "papermill": {
     "duration": 0.018906,
     "end_time": "2022-11-13T08:53:31.022770",
     "exception": false,
     "start_time": "2022-11-13T08:53:31.003864",
     "status": "completed"
    },
    "tags": []
   },
   "outputs": [
    {
     "data": {
      "text/plain": [
       "600"
      ]
     },
     "execution_count": 13,
     "metadata": {},
     "output_type": "execute_result"
    }
   ],
   "source": [
    "len(dataset)"
   ]
  },
  {
   "cell_type": "code",
   "execution_count": 14,
   "id": "d18ebc89",
   "metadata": {
    "execution": {
     "iopub.execute_input": "2022-11-13T08:53:31.037972Z",
     "iopub.status.busy": "2022-11-13T08:53:31.037636Z",
     "iopub.status.idle": "2022-11-13T08:53:31.045125Z",
     "shell.execute_reply": "2022-11-13T08:53:31.043972Z"
    },
    "papermill": {
     "duration": 0.017991,
     "end_time": "2022-11-13T08:53:31.047752",
     "exception": false,
     "start_time": "2022-11-13T08:53:31.029761",
     "status": "completed"
    },
    "tags": []
   },
   "outputs": [],
   "source": [
    "class Model(nn.Module):\n",
    "    def __init__(self, name, *, pretrained=False):\n",
    "        \"\"\"\n",
    "        name (str): timm model name, e.g. tf_efficientnet_b2_ns\n",
    "        \"\"\"\n",
    "        super().__init__()\n",
    "\n",
    "        # Use timm\n",
    "        model = timm.create_model(name, pretrained=pretrained, in_chans=2)\n",
    "\n",
    "        clsf = model.default_cfg['classifier']\n",
    "        n_features = model._modules[clsf].in_features\n",
    "        model._modules[clsf] = nn.Identity()\n",
    "\n",
    "        self.fc = nn.Linear(n_features, 1)\n",
    "        self.model = model\n",
    "\n",
    "    def forward(self, x):\n",
    "        x = self.model(x)\n",
    "        x = self.fc(x)\n",
    "        return x"
   ]
  },
  {
   "cell_type": "code",
   "execution_count": 15,
   "id": "3be23269",
   "metadata": {
    "execution": {
     "iopub.execute_input": "2022-11-13T08:53:31.064909Z",
     "iopub.status.busy": "2022-11-13T08:53:31.064560Z",
     "iopub.status.idle": "2022-11-13T08:53:31.082050Z",
     "shell.execute_reply": "2022-11-13T08:53:31.080228Z"
    },
    "papermill": {
     "duration": 0.029847,
     "end_time": "2022-11-13T08:53:31.085930",
     "exception": false,
     "start_time": "2022-11-13T08:53:31.056083",
     "status": "completed"
    },
    "tags": []
   },
   "outputs": [],
   "source": [
    "def valid_fn(valid_loader, model, criterion, device, compute_score=True):\n",
    "    \n",
    "    tb = time.time() \n",
    "    model.eval() # switch to evaluation mode\n",
    "    preds = []\n",
    "    y_all = []\n",
    "    running_loss = 0\n",
    "    count = 0\n",
    "    \n",
    "    pbar = tqdm(valid_loader, total=len(valid_loader))\n",
    "    pbar.set_description(\"Validation\")\n",
    "    \n",
    "    for images, labels in pbar:\n",
    "        images = images.to(device)\n",
    "        labels = labels.to(device)\n",
    "        # compute loss\n",
    "        with torch.no_grad():\n",
    "            y_preds = model(images)\n",
    "        loss = criterion(y_preds.view(-1), labels)\n",
    "        running_loss += loss.item()*labels.shape[0]\n",
    "        count += 1\n",
    "        # record accuracy\n",
    "        y_all.append(labels.cpu().detach().numpy())\n",
    "        preds.append(y_preds.sigmoid().to('cpu').numpy())\n",
    "    \n",
    "    del loss, images, labels, y_preds\n",
    "    \n",
    "    y_ground = np.concatenate(y_all)\n",
    "    y_pred = np.concatenate(preds)\n",
    "    score = get_score(y_ground, y_pred) if compute_score else None \n",
    "    val_loss = running_loss/count\n",
    "    \n",
    "    val_dict = {'loss': val_loss,\n",
    "               'score': score,\n",
    "               'y': y,\n",
    "               'y_pred': y_pred,\n",
    "                'time': (time.time() - tb)/60\n",
    "               }\n",
    "    \n",
    "    return val_dict"
   ]
  },
  {
   "cell_type": "code",
   "execution_count": 16,
   "id": "b70a21d2",
   "metadata": {
    "execution": {
     "iopub.execute_input": "2022-11-13T08:53:31.104144Z",
     "iopub.status.busy": "2022-11-13T08:53:31.103790Z",
     "iopub.status.idle": "2022-11-13T09:18:59.167867Z",
     "shell.execute_reply": "2022-11-13T09:18:59.165432Z"
    },
    "papermill": {
     "duration": 1528.078272,
     "end_time": "2022-11-13T09:18:59.173468",
     "exception": false,
     "start_time": "2022-11-13T08:53:31.095196",
     "status": "completed"
    },
    "tags": []
   },
   "outputs": [
    {
     "data": {
      "application/vnd.jupyter.widget-view+json": {
       "model_id": "b615f69c2dd84237aaaf3add340f3dfd",
       "version_major": 2,
       "version_minor": 0
      },
      "text/plain": [
       "  0%|          | 0/125 [00:00<?, ?it/s]"
      ]
     },
     "metadata": {},
     "output_type": "display_data"
    }
   ],
   "source": [
    "model = Model(CFG.model_name, pretrained=False)\n",
    "filename = '/kaggle/input/g2net-train/model3.pytorch'\n",
    "model.to(device)\n",
    "model.load_state_dict(torch.load(filename, map_location=device))\n",
    "model.eval()\n",
    "criterion = get_criterion()\n",
    "\n",
    "# Predict\n",
    "submit = pd.read_csv(di + '/sample_submission.csv')\n",
    "dataset_test = Dataset('test', submit)\n",
    "loader_test = torch.utils.data.DataLoader(dataset_test, batch_size=64,\n",
    "                                          num_workers=CFG.num_workers, pin_memory=True)\n",
    "\n",
    "test = valid_fn(loader_test, model, criterion, device, compute_score=False)\n",
    "\n",
    "# Write prediction\n",
    "submit['target'] = test['y_pred']\n",
    "submit.to_csv('submission.csv', index=False)"
   ]
  },
  {
   "cell_type": "code",
   "execution_count": 17,
   "id": "4b36c0bf",
   "metadata": {
    "execution": {
     "iopub.execute_input": "2022-11-13T09:18:59.192768Z",
     "iopub.status.busy": "2022-11-13T09:18:59.192325Z",
     "iopub.status.idle": "2022-11-13T09:18:59.219383Z",
     "shell.execute_reply": "2022-11-13T09:18:59.218013Z"
    },
    "papermill": {
     "duration": 0.040887,
     "end_time": "2022-11-13T09:18:59.222722",
     "exception": false,
     "start_time": "2022-11-13T09:18:59.181835",
     "status": "completed"
    },
    "tags": []
   },
   "outputs": [
    {
     "data": {
      "text/html": [
       "<div>\n",
       "<style scoped>\n",
       "    .dataframe tbody tr th:only-of-type {\n",
       "        vertical-align: middle;\n",
       "    }\n",
       "\n",
       "    .dataframe tbody tr th {\n",
       "        vertical-align: top;\n",
       "    }\n",
       "\n",
       "    .dataframe thead th {\n",
       "        text-align: right;\n",
       "    }\n",
       "</style>\n",
       "<table border=\"1\" class=\"dataframe\">\n",
       "  <thead>\n",
       "    <tr style=\"text-align: right;\">\n",
       "      <th></th>\n",
       "      <th>id</th>\n",
       "      <th>target</th>\n",
       "    </tr>\n",
       "  </thead>\n",
       "  <tbody>\n",
       "    <tr>\n",
       "      <th>0</th>\n",
       "      <td>00054c878</td>\n",
       "      <td>0.448144</td>\n",
       "    </tr>\n",
       "    <tr>\n",
       "      <th>1</th>\n",
       "      <td>0007285a3</td>\n",
       "      <td>0.690240</td>\n",
       "    </tr>\n",
       "    <tr>\n",
       "      <th>2</th>\n",
       "      <td>00076c5a6</td>\n",
       "      <td>0.446068</td>\n",
       "    </tr>\n",
       "    <tr>\n",
       "      <th>3</th>\n",
       "      <td>001349290</td>\n",
       "      <td>0.521155</td>\n",
       "    </tr>\n",
       "    <tr>\n",
       "      <th>4</th>\n",
       "      <td>001a52e92</td>\n",
       "      <td>0.382816</td>\n",
       "    </tr>\n",
       "  </tbody>\n",
       "</table>\n",
       "</div>"
      ],
      "text/plain": [
       "          id    target\n",
       "0  00054c878  0.448144\n",
       "1  0007285a3  0.690240\n",
       "2  00076c5a6  0.446068\n",
       "3  001349290  0.521155\n",
       "4  001a52e92  0.382816"
      ]
     },
     "execution_count": 17,
     "metadata": {},
     "output_type": "execute_result"
    }
   ],
   "source": [
    "submit.head()"
   ]
  },
  {
   "cell_type": "code",
   "execution_count": null,
   "id": "ae03f26c",
   "metadata": {
    "papermill": {
     "duration": 0.007343,
     "end_time": "2022-11-13T09:18:59.238043",
     "exception": false,
     "start_time": "2022-11-13T09:18:59.230700",
     "status": "completed"
    },
    "tags": []
   },
   "outputs": [],
   "source": []
  }
 ],
 "metadata": {
  "kernelspec": {
   "display_name": "Python 3",
   "language": "python",
   "name": "python3"
  },
  "language_info": {
   "codemirror_mode": {
    "name": "ipython",
    "version": 3
   },
   "file_extension": ".py",
   "mimetype": "text/x-python",
   "name": "python",
   "nbconvert_exporter": "python",
   "pygments_lexer": "ipython3",
   "version": "3.7.12"
  },
  "papermill": {
   "default_parameters": {},
   "duration": 1568.196167,
   "end_time": "2022-11-13T09:19:02.070786",
   "environment_variables": {},
   "exception": null,
   "input_path": "__notebook__.ipynb",
   "output_path": "__notebook__.ipynb",
   "parameters": {},
   "start_time": "2022-11-13T08:52:53.874619",
   "version": "2.3.4"
  },
  "widgets": {
   "application/vnd.jupyter.widget-state+json": {
    "state": {
     "2024022b3e8748e9abce1ea515eaca00": {
      "model_module": "@jupyter-widgets/controls",
      "model_module_version": "1.5.0",
      "model_name": "HTMLModel",
      "state": {
       "_dom_classes": [],
       "_model_module": "@jupyter-widgets/controls",
       "_model_module_version": "1.5.0",
       "_model_name": "HTMLModel",
       "_view_count": null,
       "_view_module": "@jupyter-widgets/controls",
       "_view_module_version": "1.5.0",
       "_view_name": "HTMLView",
       "description": "",
       "description_tooltip": null,
       "layout": "IPY_MODEL_6cb4309c75a64066976a26448b6b7571",
       "placeholder": "​",
       "style": "IPY_MODEL_820b40cafd19461ea8f46e3622ccd46f",
       "value": "Validation: 100%"
      }
     },
     "6cb4309c75a64066976a26448b6b7571": {
      "model_module": "@jupyter-widgets/base",
      "model_module_version": "1.2.0",
      "model_name": "LayoutModel",
      "state": {
       "_model_module": "@jupyter-widgets/base",
       "_model_module_version": "1.2.0",
       "_model_name": "LayoutModel",
       "_view_count": null,
       "_view_module": "@jupyter-widgets/base",
       "_view_module_version": "1.2.0",
       "_view_name": "LayoutView",
       "align_content": null,
       "align_items": null,
       "align_self": null,
       "border": null,
       "bottom": null,
       "display": null,
       "flex": null,
       "flex_flow": null,
       "grid_area": null,
       "grid_auto_columns": null,
       "grid_auto_flow": null,
       "grid_auto_rows": null,
       "grid_column": null,
       "grid_gap": null,
       "grid_row": null,
       "grid_template_areas": null,
       "grid_template_columns": null,
       "grid_template_rows": null,
       "height": null,
       "justify_content": null,
       "justify_items": null,
       "left": null,
       "margin": null,
       "max_height": null,
       "max_width": null,
       "min_height": null,
       "min_width": null,
       "object_fit": null,
       "object_position": null,
       "order": null,
       "overflow": null,
       "overflow_x": null,
       "overflow_y": null,
       "padding": null,
       "right": null,
       "top": null,
       "visibility": null,
       "width": null
      }
     },
     "6fc6e6300a8544e48565a18ba0268c00": {
      "model_module": "@jupyter-widgets/base",
      "model_module_version": "1.2.0",
      "model_name": "LayoutModel",
      "state": {
       "_model_module": "@jupyter-widgets/base",
       "_model_module_version": "1.2.0",
       "_model_name": "LayoutModel",
       "_view_count": null,
       "_view_module": "@jupyter-widgets/base",
       "_view_module_version": "1.2.0",
       "_view_name": "LayoutView",
       "align_content": null,
       "align_items": null,
       "align_self": null,
       "border": null,
       "bottom": null,
       "display": null,
       "flex": null,
       "flex_flow": null,
       "grid_area": null,
       "grid_auto_columns": null,
       "grid_auto_flow": null,
       "grid_auto_rows": null,
       "grid_column": null,
       "grid_gap": null,
       "grid_row": null,
       "grid_template_areas": null,
       "grid_template_columns": null,
       "grid_template_rows": null,
       "height": null,
       "justify_content": null,
       "justify_items": null,
       "left": null,
       "margin": null,
       "max_height": null,
       "max_width": null,
       "min_height": null,
       "min_width": null,
       "object_fit": null,
       "object_position": null,
       "order": null,
       "overflow": null,
       "overflow_x": null,
       "overflow_y": null,
       "padding": null,
       "right": null,
       "top": null,
       "visibility": null,
       "width": null
      }
     },
     "820b40cafd19461ea8f46e3622ccd46f": {
      "model_module": "@jupyter-widgets/controls",
      "model_module_version": "1.5.0",
      "model_name": "DescriptionStyleModel",
      "state": {
       "_model_module": "@jupyter-widgets/controls",
       "_model_module_version": "1.5.0",
       "_model_name": "DescriptionStyleModel",
       "_view_count": null,
       "_view_module": "@jupyter-widgets/base",
       "_view_module_version": "1.2.0",
       "_view_name": "StyleView",
       "description_width": ""
      }
     },
     "8f0d1841a4e84f71aa3d67bda408b9bb": {
      "model_module": "@jupyter-widgets/controls",
      "model_module_version": "1.5.0",
      "model_name": "HTMLModel",
      "state": {
       "_dom_classes": [],
       "_model_module": "@jupyter-widgets/controls",
       "_model_module_version": "1.5.0",
       "_model_name": "HTMLModel",
       "_view_count": null,
       "_view_module": "@jupyter-widgets/controls",
       "_view_module_version": "1.5.0",
       "_view_name": "HTMLView",
       "description": "",
       "description_tooltip": null,
       "layout": "IPY_MODEL_d0fa1d3f97024f0894f933f4af8b4d88",
       "placeholder": "​",
       "style": "IPY_MODEL_bbe1f886c6764d89822baa3c9de8df1d",
       "value": " 125/125 [25:23&lt;00:00, 11.35s/it]"
      }
     },
     "9631134aa5c0412b965fc5d49d87e7b9": {
      "model_module": "@jupyter-widgets/controls",
      "model_module_version": "1.5.0",
      "model_name": "FloatProgressModel",
      "state": {
       "_dom_classes": [],
       "_model_module": "@jupyter-widgets/controls",
       "_model_module_version": "1.5.0",
       "_model_name": "FloatProgressModel",
       "_view_count": null,
       "_view_module": "@jupyter-widgets/controls",
       "_view_module_version": "1.5.0",
       "_view_name": "ProgressView",
       "bar_style": "success",
       "description": "",
       "description_tooltip": null,
       "layout": "IPY_MODEL_6fc6e6300a8544e48565a18ba0268c00",
       "max": 125.0,
       "min": 0.0,
       "orientation": "horizontal",
       "style": "IPY_MODEL_cd2d98ef618a412b9c1a7a5b3d4d2272",
       "value": 125.0
      }
     },
     "a5de685e315348aab968863373b9b87e": {
      "model_module": "@jupyter-widgets/base",
      "model_module_version": "1.2.0",
      "model_name": "LayoutModel",
      "state": {
       "_model_module": "@jupyter-widgets/base",
       "_model_module_version": "1.2.0",
       "_model_name": "LayoutModel",
       "_view_count": null,
       "_view_module": "@jupyter-widgets/base",
       "_view_module_version": "1.2.0",
       "_view_name": "LayoutView",
       "align_content": null,
       "align_items": null,
       "align_self": null,
       "border": null,
       "bottom": null,
       "display": null,
       "flex": null,
       "flex_flow": null,
       "grid_area": null,
       "grid_auto_columns": null,
       "grid_auto_flow": null,
       "grid_auto_rows": null,
       "grid_column": null,
       "grid_gap": null,
       "grid_row": null,
       "grid_template_areas": null,
       "grid_template_columns": null,
       "grid_template_rows": null,
       "height": null,
       "justify_content": null,
       "justify_items": null,
       "left": null,
       "margin": null,
       "max_height": null,
       "max_width": null,
       "min_height": null,
       "min_width": null,
       "object_fit": null,
       "object_position": null,
       "order": null,
       "overflow": null,
       "overflow_x": null,
       "overflow_y": null,
       "padding": null,
       "right": null,
       "top": null,
       "visibility": null,
       "width": null
      }
     },
     "b615f69c2dd84237aaaf3add340f3dfd": {
      "model_module": "@jupyter-widgets/controls",
      "model_module_version": "1.5.0",
      "model_name": "HBoxModel",
      "state": {
       "_dom_classes": [],
       "_model_module": "@jupyter-widgets/controls",
       "_model_module_version": "1.5.0",
       "_model_name": "HBoxModel",
       "_view_count": null,
       "_view_module": "@jupyter-widgets/controls",
       "_view_module_version": "1.5.0",
       "_view_name": "HBoxView",
       "box_style": "",
       "children": [
        "IPY_MODEL_2024022b3e8748e9abce1ea515eaca00",
        "IPY_MODEL_9631134aa5c0412b965fc5d49d87e7b9",
        "IPY_MODEL_8f0d1841a4e84f71aa3d67bda408b9bb"
       ],
       "layout": "IPY_MODEL_a5de685e315348aab968863373b9b87e"
      }
     },
     "bbe1f886c6764d89822baa3c9de8df1d": {
      "model_module": "@jupyter-widgets/controls",
      "model_module_version": "1.5.0",
      "model_name": "DescriptionStyleModel",
      "state": {
       "_model_module": "@jupyter-widgets/controls",
       "_model_module_version": "1.5.0",
       "_model_name": "DescriptionStyleModel",
       "_view_count": null,
       "_view_module": "@jupyter-widgets/base",
       "_view_module_version": "1.2.0",
       "_view_name": "StyleView",
       "description_width": ""
      }
     },
     "cd2d98ef618a412b9c1a7a5b3d4d2272": {
      "model_module": "@jupyter-widgets/controls",
      "model_module_version": "1.5.0",
      "model_name": "ProgressStyleModel",
      "state": {
       "_model_module": "@jupyter-widgets/controls",
       "_model_module_version": "1.5.0",
       "_model_name": "ProgressStyleModel",
       "_view_count": null,
       "_view_module": "@jupyter-widgets/base",
       "_view_module_version": "1.2.0",
       "_view_name": "StyleView",
       "bar_color": null,
       "description_width": ""
      }
     },
     "d0fa1d3f97024f0894f933f4af8b4d88": {
      "model_module": "@jupyter-widgets/base",
      "model_module_version": "1.2.0",
      "model_name": "LayoutModel",
      "state": {
       "_model_module": "@jupyter-widgets/base",
       "_model_module_version": "1.2.0",
       "_model_name": "LayoutModel",
       "_view_count": null,
       "_view_module": "@jupyter-widgets/base",
       "_view_module_version": "1.2.0",
       "_view_name": "LayoutView",
       "align_content": null,
       "align_items": null,
       "align_self": null,
       "border": null,
       "bottom": null,
       "display": null,
       "flex": null,
       "flex_flow": null,
       "grid_area": null,
       "grid_auto_columns": null,
       "grid_auto_flow": null,
       "grid_auto_rows": null,
       "grid_column": null,
       "grid_gap": null,
       "grid_row": null,
       "grid_template_areas": null,
       "grid_template_columns": null,
       "grid_template_rows": null,
       "height": null,
       "justify_content": null,
       "justify_items": null,
       "left": null,
       "margin": null,
       "max_height": null,
       "max_width": null,
       "min_height": null,
       "min_width": null,
       "object_fit": null,
       "object_position": null,
       "order": null,
       "overflow": null,
       "overflow_x": null,
       "overflow_y": null,
       "padding": null,
       "right": null,
       "top": null,
       "visibility": null,
       "width": null
      }
     }
    },
    "version_major": 2,
    "version_minor": 0
   }
  }
 },
 "nbformat": 4,
 "nbformat_minor": 5
}
