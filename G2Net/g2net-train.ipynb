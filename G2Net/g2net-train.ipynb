{
 "cells": [
  {
   "cell_type": "code",
   "execution_count": 1,
   "id": "3f79c98d",
   "metadata": {
    "execution": {
     "iopub.execute_input": "2022-11-12T10:06:24.361948Z",
     "iopub.status.busy": "2022-11-12T10:06:24.361153Z",
     "iopub.status.idle": "2022-11-12T10:06:36.645977Z",
     "shell.execute_reply": "2022-11-12T10:06:36.644600Z"
    },
    "papermill": {
     "duration": 12.297701,
     "end_time": "2022-11-12T10:06:36.649002",
     "exception": false,
     "start_time": "2022-11-12T10:06:24.351301",
     "status": "completed"
    },
    "tags": []
   },
   "outputs": [
    {
     "name": "stdout",
     "output_type": "stream",
     "text": [
      "Requirement already satisfied: h5py in /opt/conda/lib/python3.7/site-packages (3.7.0)\r\n",
      "Requirement already satisfied: numpy>=1.14.5 in /opt/conda/lib/python3.7/site-packages (from h5py) (1.21.6)\r\n",
      "\u001b[33mWARNING: Running pip as the 'root' user can result in broken permissions and conflicting behaviour with the system package manager. It is recommended to use a virtual environment instead: https://pip.pypa.io/warnings/venv\u001b[0m\u001b[33m\r\n",
      "\u001b[0mNote: you may need to restart the kernel to use updated packages.\n"
     ]
    }
   ],
   "source": [
    "pip install h5py"
   ]
  },
  {
   "cell_type": "code",
   "execution_count": 2,
   "id": "db64a25c",
   "metadata": {
    "execution": {
     "iopub.execute_input": "2022-11-12T10:06:36.666789Z",
     "iopub.status.busy": "2022-11-12T10:06:36.666480Z",
     "iopub.status.idle": "2022-11-12T10:06:47.441741Z",
     "shell.execute_reply": "2022-11-12T10:06:47.440084Z"
    },
    "papermill": {
     "duration": 10.786285,
     "end_time": "2022-11-12T10:06:47.444095",
     "exception": false,
     "start_time": "2022-11-12T10:06:36.657810",
     "status": "completed"
    },
    "tags": []
   },
   "outputs": [
    {
     "name": "stdout",
     "output_type": "stream",
     "text": [
      "Collecting timm\r\n",
      "  Downloading timm-0.6.11-py3-none-any.whl (548 kB)\r\n",
      "\u001b[2K     \u001b[90m━━━━━━━━━━━━━━━━━━━━━━━━━━━━━━━━━━━━━━━\u001b[0m \u001b[32m548.7/548.7 kB\u001b[0m \u001b[31m4.6 MB/s\u001b[0m eta \u001b[36m0:00:00\u001b[0m\r\n",
      "\u001b[?25hRequirement already satisfied: torch>=1.7 in /opt/conda/lib/python3.7/site-packages (from timm) (1.11.0)\r\n",
      "Requirement already satisfied: huggingface-hub in /opt/conda/lib/python3.7/site-packages (from timm) (0.10.1)\r\n",
      "Requirement already satisfied: torchvision in /opt/conda/lib/python3.7/site-packages (from timm) (0.12.0)\r\n",
      "Requirement already satisfied: pyyaml in /opt/conda/lib/python3.7/site-packages (from timm) (6.0)\r\n",
      "Requirement already satisfied: typing-extensions in /opt/conda/lib/python3.7/site-packages (from torch>=1.7->timm) (4.1.1)\r\n",
      "Requirement already satisfied: requests in /opt/conda/lib/python3.7/site-packages (from huggingface-hub->timm) (2.28.1)\r\n",
      "Requirement already satisfied: filelock in /opt/conda/lib/python3.7/site-packages (from huggingface-hub->timm) (3.7.1)\r\n",
      "Requirement already satisfied: importlib-metadata in /opt/conda/lib/python3.7/site-packages (from huggingface-hub->timm) (4.13.0)\r\n",
      "Requirement already satisfied: packaging>=20.9 in /opt/conda/lib/python3.7/site-packages (from huggingface-hub->timm) (21.3)\r\n",
      "Requirement already satisfied: tqdm in /opt/conda/lib/python3.7/site-packages (from huggingface-hub->timm) (4.64.0)\r\n",
      "Requirement already satisfied: numpy in /opt/conda/lib/python3.7/site-packages (from torchvision->timm) (1.21.6)\r\n",
      "Requirement already satisfied: pillow!=8.3.*,>=5.3.0 in /opt/conda/lib/python3.7/site-packages (from torchvision->timm) (9.1.1)\r\n",
      "Requirement already satisfied: pyparsing!=3.0.5,>=2.0.2 in /opt/conda/lib/python3.7/site-packages (from packaging>=20.9->huggingface-hub->timm) (3.0.9)\r\n",
      "Requirement already satisfied: zipp>=0.5 in /opt/conda/lib/python3.7/site-packages (from importlib-metadata->huggingface-hub->timm) (3.8.0)\r\n",
      "Requirement already satisfied: idna<4,>=2.5 in /opt/conda/lib/python3.7/site-packages (from requests->huggingface-hub->timm) (3.3)\r\n",
      "Requirement already satisfied: certifi>=2017.4.17 in /opt/conda/lib/python3.7/site-packages (from requests->huggingface-hub->timm) (2022.9.24)\r\n",
      "Requirement already satisfied: urllib3<1.27,>=1.21.1 in /opt/conda/lib/python3.7/site-packages (from requests->huggingface-hub->timm) (1.26.12)\r\n",
      "Requirement already satisfied: charset-normalizer<3,>=2 in /opt/conda/lib/python3.7/site-packages (from requests->huggingface-hub->timm) (2.1.0)\r\n",
      "Installing collected packages: timm\r\n",
      "Successfully installed timm-0.6.11\r\n",
      "\u001b[33mWARNING: Running pip as the 'root' user can result in broken permissions and conflicting behaviour with the system package manager. It is recommended to use a virtual environment instead: https://pip.pypa.io/warnings/venv\u001b[0m\u001b[33m\r\n",
      "\u001b[0mNote: you may need to restart the kernel to use updated packages.\n"
     ]
    }
   ],
   "source": [
    "pip install timm"
   ]
  },
  {
   "cell_type": "code",
   "execution_count": 3,
   "id": "d0294845",
   "metadata": {
    "execution": {
     "iopub.execute_input": "2022-11-12T10:06:47.462221Z",
     "iopub.status.busy": "2022-11-12T10:06:47.461883Z",
     "iopub.status.idle": "2022-11-12T10:06:55.149541Z",
     "shell.execute_reply": "2022-11-12T10:06:55.148278Z"
    },
    "papermill": {
     "duration": 7.699709,
     "end_time": "2022-11-12T10:06:55.152084",
     "exception": false,
     "start_time": "2022-11-12T10:06:47.452375",
     "status": "completed"
    },
    "tags": []
   },
   "outputs": [],
   "source": [
    "import os\n",
    "import numpy as np\n",
    "import pandas as pd\n",
    "import h5py\n",
    "import timm\n",
    "import matplotlib.pyplot as plt\n",
    "import seaborn\n",
    "import time\n",
    "\n",
    "import torch\n",
    "import torchaudio\n",
    "import torch.nn as nn\n",
    "from torch.utils.data import DataLoader\n",
    "from torch.optim.lr_scheduler import StepLR\n",
    "\n",
    "from tqdm import tqdm\n",
    "\n",
    "import warnings\n",
    "warnings.filterwarnings('ignore')\n",
    "\n",
    "from sklearn.model_selection import KFold\n",
    "from sklearn.model_selection import StratifiedKFold\n",
    "from sklearn.metrics import roc_auc_score\n",
    "from timm.scheduler import CosineLRScheduler\n",
    "\n",
    "\n",
    "device = torch.device(\"cuda\" if torch.cuda.is_available() else \"cpu\")\n",
    "di = '/kaggle/input/g2net-detecting-continuous-gravitational-waves'\n",
    "\n",
    "%matplotlib inline"
   ]
  },
  {
   "cell_type": "code",
   "execution_count": 4,
   "id": "fe5b17a7",
   "metadata": {
    "execution": {
     "iopub.execute_input": "2022-11-12T10:06:55.172128Z",
     "iopub.status.busy": "2022-11-12T10:06:55.171376Z",
     "iopub.status.idle": "2022-11-12T10:06:55.205498Z",
     "shell.execute_reply": "2022-11-12T10:06:55.204687Z"
    },
    "papermill": {
     "duration": 0.047062,
     "end_time": "2022-11-12T10:06:55.207562",
     "exception": false,
     "start_time": "2022-11-12T10:06:55.160500",
     "status": "completed"
    },
    "tags": []
   },
   "outputs": [],
   "source": [
    "train_labels = pd.read_csv('../input/g2net-detecting-continuous-gravitational-waves/train_labels.csv')\n",
    "submission = pd.read_csv('../input/g2net-detecting-continuous-gravitational-waves/sample_submission.csv')"
   ]
  },
  {
   "cell_type": "code",
   "execution_count": 5,
   "id": "e4d02cbd",
   "metadata": {
    "execution": {
     "iopub.execute_input": "2022-11-12T10:06:55.224956Z",
     "iopub.status.busy": "2022-11-12T10:06:55.224689Z",
     "iopub.status.idle": "2022-11-12T10:06:55.246378Z",
     "shell.execute_reply": "2022-11-12T10:06:55.245356Z"
    },
    "papermill": {
     "duration": 0.033141,
     "end_time": "2022-11-12T10:06:55.248832",
     "exception": false,
     "start_time": "2022-11-12T10:06:55.215691",
     "status": "completed"
    },
    "tags": []
   },
   "outputs": [
    {
     "data": {
      "text/html": [
       "<div>\n",
       "<style scoped>\n",
       "    .dataframe tbody tr th:only-of-type {\n",
       "        vertical-align: middle;\n",
       "    }\n",
       "\n",
       "    .dataframe tbody tr th {\n",
       "        vertical-align: top;\n",
       "    }\n",
       "\n",
       "    .dataframe thead th {\n",
       "        text-align: right;\n",
       "    }\n",
       "</style>\n",
       "<table border=\"1\" class=\"dataframe\">\n",
       "  <thead>\n",
       "    <tr style=\"text-align: right;\">\n",
       "      <th></th>\n",
       "      <th>id</th>\n",
       "      <th>target</th>\n",
       "    </tr>\n",
       "  </thead>\n",
       "  <tbody>\n",
       "    <tr>\n",
       "      <th>0</th>\n",
       "      <td>001121a05</td>\n",
       "      <td>1</td>\n",
       "    </tr>\n",
       "    <tr>\n",
       "      <th>1</th>\n",
       "      <td>004f23b2d</td>\n",
       "      <td>1</td>\n",
       "    </tr>\n",
       "    <tr>\n",
       "      <th>2</th>\n",
       "      <td>00a6db666</td>\n",
       "      <td>1</td>\n",
       "    </tr>\n",
       "    <tr>\n",
       "      <th>3</th>\n",
       "      <td>00f36a6ac</td>\n",
       "      <td>1</td>\n",
       "    </tr>\n",
       "    <tr>\n",
       "      <th>4</th>\n",
       "      <td>010a387db</td>\n",
       "      <td>1</td>\n",
       "    </tr>\n",
       "  </tbody>\n",
       "</table>\n",
       "</div>"
      ],
      "text/plain": [
       "          id  target\n",
       "0  001121a05       1\n",
       "1  004f23b2d       1\n",
       "2  00a6db666       1\n",
       "3  00f36a6ac       1\n",
       "4  010a387db       1"
      ]
     },
     "execution_count": 5,
     "metadata": {},
     "output_type": "execute_result"
    }
   ],
   "source": [
    "train_labels.head()"
   ]
  },
  {
   "cell_type": "code",
   "execution_count": 6,
   "id": "3ce2bfa2",
   "metadata": {
    "execution": {
     "iopub.execute_input": "2022-11-12T10:06:55.267232Z",
     "iopub.status.busy": "2022-11-12T10:06:55.266351Z",
     "iopub.status.idle": "2022-11-12T10:06:55.283455Z",
     "shell.execute_reply": "2022-11-12T10:06:55.282362Z"
    },
    "papermill": {
     "duration": 0.028664,
     "end_time": "2022-11-12T10:06:55.285880",
     "exception": false,
     "start_time": "2022-11-12T10:06:55.257216",
     "status": "completed"
    },
    "tags": []
   },
   "outputs": [
    {
     "data": {
      "text/plain": [
       " 1    400\n",
       " 0    200\n",
       "-1      3\n",
       "Name: target, dtype: int64"
      ]
     },
     "execution_count": 6,
     "metadata": {},
     "output_type": "execute_result"
    }
   ],
   "source": [
    "train_labels['target'].value_counts()"
   ]
  },
  {
   "cell_type": "code",
   "execution_count": 7,
   "id": "c7c0cd53",
   "metadata": {
    "execution": {
     "iopub.execute_input": "2022-11-12T10:06:55.303900Z",
     "iopub.status.busy": "2022-11-12T10:06:55.303594Z",
     "iopub.status.idle": "2022-11-12T10:06:55.314208Z",
     "shell.execute_reply": "2022-11-12T10:06:55.313184Z"
    },
    "papermill": {
     "duration": 0.021692,
     "end_time": "2022-11-12T10:06:55.316294",
     "exception": false,
     "start_time": "2022-11-12T10:06:55.294602",
     "status": "completed"
    },
    "tags": []
   },
   "outputs": [
    {
     "data": {
      "text/plain": [
       "1    400\n",
       "0    200\n",
       "Name: target, dtype: int64"
      ]
     },
     "execution_count": 7,
     "metadata": {},
     "output_type": "execute_result"
    }
   ],
   "source": [
    "#Removing the negative labels\n",
    "train_labels = train_labels[train_labels.target>=0]\n",
    "train_labels.target.value_counts()"
   ]
  },
  {
   "cell_type": "code",
   "execution_count": 8,
   "id": "88033676",
   "metadata": {
    "execution": {
     "iopub.execute_input": "2022-11-12T10:06:55.334842Z",
     "iopub.status.busy": "2022-11-12T10:06:55.333929Z",
     "iopub.status.idle": "2022-11-12T10:06:55.343109Z",
     "shell.execute_reply": "2022-11-12T10:06:55.342147Z"
    },
    "papermill": {
     "duration": 0.020343,
     "end_time": "2022-11-12T10:06:55.345331",
     "exception": false,
     "start_time": "2022-11-12T10:06:55.324988",
     "status": "completed"
    },
    "tags": []
   },
   "outputs": [
    {
     "data": {
      "text/html": [
       "<div>\n",
       "<style scoped>\n",
       "    .dataframe tbody tr th:only-of-type {\n",
       "        vertical-align: middle;\n",
       "    }\n",
       "\n",
       "    .dataframe tbody tr th {\n",
       "        vertical-align: top;\n",
       "    }\n",
       "\n",
       "    .dataframe thead th {\n",
       "        text-align: right;\n",
       "    }\n",
       "</style>\n",
       "<table border=\"1\" class=\"dataframe\">\n",
       "  <thead>\n",
       "    <tr style=\"text-align: right;\">\n",
       "      <th></th>\n",
       "      <th>id</th>\n",
       "      <th>target</th>\n",
       "    </tr>\n",
       "  </thead>\n",
       "  <tbody>\n",
       "    <tr>\n",
       "      <th>0</th>\n",
       "      <td>00054c878</td>\n",
       "      <td>0.5</td>\n",
       "    </tr>\n",
       "    <tr>\n",
       "      <th>1</th>\n",
       "      <td>0007285a3</td>\n",
       "      <td>0.5</td>\n",
       "    </tr>\n",
       "    <tr>\n",
       "      <th>2</th>\n",
       "      <td>00076c5a6</td>\n",
       "      <td>0.5</td>\n",
       "    </tr>\n",
       "    <tr>\n",
       "      <th>3</th>\n",
       "      <td>001349290</td>\n",
       "      <td>0.5</td>\n",
       "    </tr>\n",
       "    <tr>\n",
       "      <th>4</th>\n",
       "      <td>001a52e92</td>\n",
       "      <td>0.5</td>\n",
       "    </tr>\n",
       "  </tbody>\n",
       "</table>\n",
       "</div>"
      ],
      "text/plain": [
       "          id  target\n",
       "0  00054c878     0.5\n",
       "1  0007285a3     0.5\n",
       "2  00076c5a6     0.5\n",
       "3  001349290     0.5\n",
       "4  001a52e92     0.5"
      ]
     },
     "execution_count": 8,
     "metadata": {},
     "output_type": "execute_result"
    }
   ],
   "source": [
    "submission.head()"
   ]
  },
  {
   "cell_type": "code",
   "execution_count": 9,
   "id": "23994014",
   "metadata": {
    "execution": {
     "iopub.execute_input": "2022-11-12T10:06:55.363975Z",
     "iopub.status.busy": "2022-11-12T10:06:55.363229Z",
     "iopub.status.idle": "2022-11-12T10:06:55.367256Z",
     "shell.execute_reply": "2022-11-12T10:06:55.366357Z"
    },
    "papermill": {
     "duration": 0.015089,
     "end_time": "2022-11-12T10:06:55.369197",
     "exception": false,
     "start_time": "2022-11-12T10:06:55.354108",
     "status": "completed"
    },
    "tags": []
   },
   "outputs": [],
   "source": [
    "example_train = '../input/g2net-detecting-continuous-gravitational-waves/train/001121a05.hdf5'"
   ]
  },
  {
   "cell_type": "code",
   "execution_count": 10,
   "id": "0f8ac361",
   "metadata": {
    "execution": {
     "iopub.execute_input": "2022-11-12T10:06:55.387638Z",
     "iopub.status.busy": "2022-11-12T10:06:55.386883Z",
     "iopub.status.idle": "2022-11-12T10:06:55.401824Z",
     "shell.execute_reply": "2022-11-12T10:06:55.401008Z"
    },
    "papermill": {
     "duration": 0.02609,
     "end_time": "2022-11-12T10:06:55.403846",
     "exception": false,
     "start_time": "2022-11-12T10:06:55.377756",
     "status": "completed"
    },
    "tags": []
   },
   "outputs": [],
   "source": [
    "f = h5py.File(example_train, 'r')"
   ]
  },
  {
   "cell_type": "code",
   "execution_count": 11,
   "id": "2498c654",
   "metadata": {
    "execution": {
     "iopub.execute_input": "2022-11-12T10:06:55.423142Z",
     "iopub.status.busy": "2022-11-12T10:06:55.421643Z",
     "iopub.status.idle": "2022-11-12T10:06:55.432154Z",
     "shell.execute_reply": "2022-11-12T10:06:55.431231Z"
    },
    "papermill": {
     "duration": 0.021739,
     "end_time": "2022-11-12T10:06:55.434173",
     "exception": false,
     "start_time": "2022-11-12T10:06:55.412434",
     "status": "completed"
    },
    "tags": []
   },
   "outputs": [
    {
     "data": {
      "text/plain": [
       "<KeysViewHDF5 ['001121a05']>"
      ]
     },
     "execution_count": 11,
     "metadata": {},
     "output_type": "execute_result"
    }
   ],
   "source": [
    "f.keys()"
   ]
  },
  {
   "cell_type": "code",
   "execution_count": 12,
   "id": "1d9420d2",
   "metadata": {
    "execution": {
     "iopub.execute_input": "2022-11-12T10:06:55.452845Z",
     "iopub.status.busy": "2022-11-12T10:06:55.452098Z",
     "iopub.status.idle": "2022-11-12T10:06:55.456810Z",
     "shell.execute_reply": "2022-11-12T10:06:55.455992Z"
    },
    "papermill": {
     "duration": 0.015819,
     "end_time": "2022-11-12T10:06:55.458577",
     "exception": false,
     "start_time": "2022-11-12T10:06:55.442758",
     "status": "completed"
    },
    "tags": []
   },
   "outputs": [],
   "source": [
    "group1 = f['001121a05']"
   ]
  },
  {
   "cell_type": "code",
   "execution_count": 13,
   "id": "05bf9b35",
   "metadata": {
    "execution": {
     "iopub.execute_input": "2022-11-12T10:06:55.477504Z",
     "iopub.status.busy": "2022-11-12T10:06:55.476635Z",
     "iopub.status.idle": "2022-11-12T10:06:55.486408Z",
     "shell.execute_reply": "2022-11-12T10:06:55.485422Z"
    },
    "papermill": {
     "duration": 0.02107,
     "end_time": "2022-11-12T10:06:55.488385",
     "exception": false,
     "start_time": "2022-11-12T10:06:55.467315",
     "status": "completed"
    },
    "tags": []
   },
   "outputs": [
    {
     "data": {
      "text/plain": [
       "<HDF5 group \"/001121a05\" (3 members)>"
      ]
     },
     "execution_count": 13,
     "metadata": {},
     "output_type": "execute_result"
    }
   ],
   "source": [
    "group1"
   ]
  },
  {
   "cell_type": "code",
   "execution_count": 14,
   "id": "d554dd6d",
   "metadata": {
    "execution": {
     "iopub.execute_input": "2022-11-12T10:06:55.507246Z",
     "iopub.status.busy": "2022-11-12T10:06:55.506595Z",
     "iopub.status.idle": "2022-11-12T10:06:55.512481Z",
     "shell.execute_reply": "2022-11-12T10:06:55.511581Z"
    },
    "papermill": {
     "duration": 0.017384,
     "end_time": "2022-11-12T10:06:55.514516",
     "exception": false,
     "start_time": "2022-11-12T10:06:55.497132",
     "status": "completed"
    },
    "tags": []
   },
   "outputs": [
    {
     "data": {
      "text/plain": [
       "<KeysViewHDF5 ['H1', 'L1', 'frequency_Hz']>"
      ]
     },
     "execution_count": 14,
     "metadata": {},
     "output_type": "execute_result"
    }
   ],
   "source": [
    "group1.keys()"
   ]
  },
  {
   "cell_type": "code",
   "execution_count": 15,
   "id": "2e9fc31f",
   "metadata": {
    "execution": {
     "iopub.execute_input": "2022-11-12T10:06:55.534223Z",
     "iopub.status.busy": "2022-11-12T10:06:55.532586Z",
     "iopub.status.idle": "2022-11-12T10:06:55.537465Z",
     "shell.execute_reply": "2022-11-12T10:06:55.536644Z"
    },
    "papermill": {
     "duration": 0.016348,
     "end_time": "2022-11-12T10:06:55.539466",
     "exception": false,
     "start_time": "2022-11-12T10:06:55.523118",
     "status": "completed"
    },
    "tags": []
   },
   "outputs": [],
   "source": [
    "h1 = group1['H1']"
   ]
  },
  {
   "cell_type": "code",
   "execution_count": 16,
   "id": "fa614fdd",
   "metadata": {
    "execution": {
     "iopub.execute_input": "2022-11-12T10:06:55.558848Z",
     "iopub.status.busy": "2022-11-12T10:06:55.557955Z",
     "iopub.status.idle": "2022-11-12T10:06:55.564009Z",
     "shell.execute_reply": "2022-11-12T10:06:55.563079Z"
    },
    "papermill": {
     "duration": 0.017612,
     "end_time": "2022-11-12T10:06:55.566001",
     "exception": false,
     "start_time": "2022-11-12T10:06:55.548389",
     "status": "completed"
    },
    "tags": []
   },
   "outputs": [
    {
     "data": {
      "text/plain": [
       "<KeysViewHDF5 ['SFTs', 'timestamps_GPS']>"
      ]
     },
     "execution_count": 16,
     "metadata": {},
     "output_type": "execute_result"
    }
   ],
   "source": [
    "h1.keys()"
   ]
  },
  {
   "cell_type": "code",
   "execution_count": 17,
   "id": "fcb54340",
   "metadata": {
    "execution": {
     "iopub.execute_input": "2022-11-12T10:06:55.586268Z",
     "iopub.status.busy": "2022-11-12T10:06:55.584856Z",
     "iopub.status.idle": "2022-11-12T10:06:55.589724Z",
     "shell.execute_reply": "2022-11-12T10:06:55.588857Z"
    },
    "papermill": {
     "duration": 0.016288,
     "end_time": "2022-11-12T10:06:55.591591",
     "exception": false,
     "start_time": "2022-11-12T10:06:55.575303",
     "status": "completed"
    },
    "tags": []
   },
   "outputs": [],
   "source": [
    "SFT_1 = h1['SFTs']"
   ]
  },
  {
   "cell_type": "code",
   "execution_count": 18,
   "id": "b801861a",
   "metadata": {
    "execution": {
     "iopub.execute_input": "2022-11-12T10:06:55.611664Z",
     "iopub.status.busy": "2022-11-12T10:06:55.610262Z",
     "iopub.status.idle": "2022-11-12T10:06:55.616678Z",
     "shell.execute_reply": "2022-11-12T10:06:55.615794Z"
    },
    "papermill": {
     "duration": 0.017973,
     "end_time": "2022-11-12T10:06:55.618646",
     "exception": false,
     "start_time": "2022-11-12T10:06:55.600673",
     "status": "completed"
    },
    "tags": []
   },
   "outputs": [
    {
     "data": {
      "text/plain": [
       "(360, 4612)"
      ]
     },
     "execution_count": 18,
     "metadata": {},
     "output_type": "execute_result"
    }
   ],
   "source": [
    "SFT_1.shape"
   ]
  },
  {
   "cell_type": "code",
   "execution_count": 19,
   "id": "26918b7e",
   "metadata": {
    "execution": {
     "iopub.execute_input": "2022-11-12T10:06:55.637931Z",
     "iopub.status.busy": "2022-11-12T10:06:55.637196Z",
     "iopub.status.idle": "2022-11-12T10:06:55.649040Z",
     "shell.execute_reply": "2022-11-12T10:06:55.648141Z"
    },
    "papermill": {
     "duration": 0.023582,
     "end_time": "2022-11-12T10:06:55.651121",
     "exception": false,
     "start_time": "2022-11-12T10:06:55.627539",
     "status": "completed"
    },
    "tags": []
   },
   "outputs": [
    {
     "data": {
      "text/plain": [
       "array([[-2.0178011e-24+1.7066067e-22j, -1.4645843e-23+9.6421383e-23j,\n",
       "         1.3910385e-23-4.3923662e-23j, ...,\n",
       "        -1.7177181e-23+1.2837293e-22j,  1.3892107e-22-8.2977672e-23j,\n",
       "         7.2729580e-23+4.4559575e-23j],\n",
       "       [-1.8711387e-22+1.0073502e-22j, -1.5109396e-22+9.3674566e-24j,\n",
       "         5.0192982e-23-5.2098252e-23j, ...,\n",
       "        -5.9722122e-23-1.0904593e-22j,  8.0738399e-23+1.6148876e-22j,\n",
       "         1.4760140e-22+1.0795126e-22j]], dtype=complex64)"
      ]
     },
     "execution_count": 19,
     "metadata": {},
     "output_type": "execute_result"
    }
   ],
   "source": [
    "SFT_1[0:2]"
   ]
  },
  {
   "cell_type": "code",
   "execution_count": 20,
   "id": "9952687a",
   "metadata": {
    "execution": {
     "iopub.execute_input": "2022-11-12T10:06:55.670815Z",
     "iopub.status.busy": "2022-11-12T10:06:55.670087Z",
     "iopub.status.idle": "2022-11-12T10:06:55.682163Z",
     "shell.execute_reply": "2022-11-12T10:06:55.681097Z"
    },
    "papermill": {
     "duration": 0.024338,
     "end_time": "2022-11-12T10:06:55.684688",
     "exception": false,
     "start_time": "2022-11-12T10:06:55.660350",
     "status": "completed"
    },
    "tags": []
   },
   "outputs": [
    {
     "name": "stdout",
     "output_type": "stream",
     "text": [
      "First layer groups: ['001121a05']\n",
      "Second layer groups: ['H1', 'L1', 'frequency_Hz']\n",
      "Third layer groups: ['SFTs', 'timestamps_GPS']\n",
      "key: H1 , shape: (360, 4612)\n",
      "key: L1 , shape: (360, 4653)\n",
      "key: frequency_Hz , shape: (360,)\n"
     ]
    }
   ],
   "source": [
    "with h5py.File(example_train, 'r') as f:\n",
    "    \n",
    "    group_1_list = list(f.keys())\n",
    "    print(\"First layer groups:\", group_1_list)\n",
    "    \n",
    "    group_1 = f[group_1_list[0]]\n",
    "    group_2_list = list(group_1.keys())\n",
    "    print(\"Second layer groups:\", group_2_list)\n",
    "    \n",
    "    group_2 = group_1[group_2_list[0]]\n",
    "    group_3_list = list(group_2.keys())\n",
    "    print(\"Third layer groups:\", group_3_list)\n",
    "    \n",
    "    print(\"key:\", group_2_list[0], \", shape:\", group_1[group_2_list[0]]['SFTs'].shape)\n",
    "    print(\"key:\", group_2_list[1], \", shape:\", group_1[group_2_list[1]]['SFTs'].shape)\n",
    "    print(\"key:\", group_2_list[2], \", shape:\", group_1[group_2_list[2]].shape)"
   ]
  },
  {
   "cell_type": "code",
   "execution_count": 21,
   "id": "03180b2c",
   "metadata": {
    "execution": {
     "iopub.execute_input": "2022-11-12T10:06:55.704433Z",
     "iopub.status.busy": "2022-11-12T10:06:55.704138Z",
     "iopub.status.idle": "2022-11-12T10:07:00.345695Z",
     "shell.execute_reply": "2022-11-12T10:07:00.344436Z"
    },
    "papermill": {
     "duration": 4.654049,
     "end_time": "2022-11-12T10:07:00.348286",
     "exception": false,
     "start_time": "2022-11-12T10:06:55.694237",
     "status": "completed"
    },
    "tags": []
   },
   "outputs": [
    {
     "name": "stdout",
     "output_type": "stream",
     "text": [
      "1000 data files loaded\n",
      "2000 data files loaded\n",
      "3000 data files loaded\n",
      "4000 data files loaded\n",
      "5000 data files loaded\n",
      "6000 data files loaded\n",
      "7000 data files loaded\n",
      "8000 data files loaded\n"
     ]
    }
   ],
   "source": [
    "count = 0\n",
    "train_files = []\n",
    "test_files = []\n",
    "\n",
    "for dirname, _, filenames in os.walk('/kaggle/input'):\n",
    "    for filename in filenames:\n",
    "        count += 1\n",
    "        path = os.path.join(dirname, filename)\n",
    "        \n",
    "        if 'test' in dirname:\n",
    "            test_files.append(path)\n",
    "            \n",
    "        if 'train' in dirname:\n",
    "            train_files.append(path)\n",
    "            \n",
    "        if count%1000 == 0:\n",
    "            print(count, 'data files loaded')"
   ]
  },
  {
   "cell_type": "code",
   "execution_count": 22,
   "id": "7aa0e89b",
   "metadata": {
    "execution": {
     "iopub.execute_input": "2022-11-12T10:07:00.369827Z",
     "iopub.status.busy": "2022-11-12T10:07:00.369524Z",
     "iopub.status.idle": "2022-11-12T10:07:00.375539Z",
     "shell.execute_reply": "2022-11-12T10:07:00.374495Z"
    },
    "papermill": {
     "duration": 0.01904,
     "end_time": "2022-11-12T10:07:00.377465",
     "exception": false,
     "start_time": "2022-11-12T10:07:00.358425",
     "status": "completed"
    },
    "tags": []
   },
   "outputs": [
    {
     "data": {
      "text/plain": [
       "'/kaggle/input/g2net-detecting-continuous-gravitational-waves/train/0517ef7fe.hdf5'"
      ]
     },
     "execution_count": 22,
     "metadata": {},
     "output_type": "execute_result"
    }
   ],
   "source": [
    "train_files[0]"
   ]
  },
  {
   "cell_type": "code",
   "execution_count": 23,
   "id": "81a10b0d",
   "metadata": {
    "execution": {
     "iopub.execute_input": "2022-11-12T10:07:00.397257Z",
     "iopub.status.busy": "2022-11-12T10:07:00.396966Z",
     "iopub.status.idle": "2022-11-12T10:07:00.402966Z",
     "shell.execute_reply": "2022-11-12T10:07:00.402011Z"
    },
    "papermill": {
     "duration": 0.018259,
     "end_time": "2022-11-12T10:07:00.405115",
     "exception": false,
     "start_time": "2022-11-12T10:07:00.386856",
     "status": "completed"
    },
    "tags": []
   },
   "outputs": [],
   "source": [
    "#defining a configuration\n",
    "class CFG:\n",
    "    model_name = 'tf_efficientnet_b4_ns'\n",
    "    target_size = 1\n",
    "    transform = True\n",
    "    flip_rate = 0.5\n",
    "    fre_shift_rate = 1.0\n",
    "    time_mask_num = 1\n",
    "    freq_mask_num = 2\n",
    "    nfold = 5\n",
    "    is_cross_validate = True\n",
    "    batch_size = 32\n",
    "    epochs = 25\n",
    "    num_workers = 2\n",
    "    lr = 1e-3\n",
    "    weight_decay = 1e-6\n",
    "    train = True\n",
    "    seed = 42\n",
    "    score_method = 'roc_auc_score'\n",
    "    scheduler_type = 'CosineLRScheduler'\n",
    "    optimizer_type = 'Adam'\n",
    "    loss_type = 'BCEWithLogitsLoss'\n",
    "    max_grad_norm = 1000\n",
    "    lr_max = 4e-4\n",
    "    epochs_warmup = 1.0"
   ]
  },
  {
   "cell_type": "code",
   "execution_count": 24,
   "id": "4060de3a",
   "metadata": {
    "execution": {
     "iopub.execute_input": "2022-11-12T10:07:00.424522Z",
     "iopub.status.busy": "2022-11-12T10:07:00.424222Z",
     "iopub.status.idle": "2022-11-12T10:07:00.428878Z",
     "shell.execute_reply": "2022-11-12T10:07:00.427889Z"
    },
    "papermill": {
     "duration": 0.01672,
     "end_time": "2022-11-12T10:07:00.430940",
     "exception": false,
     "start_time": "2022-11-12T10:07:00.414220",
     "status": "completed"
    },
    "tags": []
   },
   "outputs": [],
   "source": [
    "def get_criterion():\n",
    "    if CFG.loss_type == 'CrossEntropyLoss':\n",
    "        return nn.CrossEntropyLoss()\n",
    "    if CFG.loss_type == 'BCEWithLogitsLoss':\n",
    "        return nn.BCEWithLogitsLoss()"
   ]
  },
  {
   "cell_type": "code",
   "execution_count": 25,
   "id": "39382750",
   "metadata": {
    "execution": {
     "iopub.execute_input": "2022-11-12T10:07:00.450597Z",
     "iopub.status.busy": "2022-11-12T10:07:00.450338Z",
     "iopub.status.idle": "2022-11-12T10:07:00.456001Z",
     "shell.execute_reply": "2022-11-12T10:07:00.454963Z"
    },
    "papermill": {
     "duration": 0.018045,
     "end_time": "2022-11-12T10:07:00.458429",
     "exception": false,
     "start_time": "2022-11-12T10:07:00.440384",
     "status": "completed"
    },
    "tags": []
   },
   "outputs": [],
   "source": [
    "def get_optimizer(model):\n",
    "    if CFG.optimizer_type == 'Adam':\n",
    "        optimizer = torch.optim.Adam(model.parameters(), lr=CFG.lr_max, weight_decay=CFG.weight_decay, amsgrad=False)\n",
    "    if CFG.optimizer_type == 'AdamW':\n",
    "        optimizer = torch.optim.AdamW(model.parameters(), lr=CFG.lr_max, weight_decay=CFG.weight_decay)\n",
    "    return optimizer"
   ]
  },
  {
   "cell_type": "code",
   "execution_count": 26,
   "id": "eeff0d92",
   "metadata": {
    "execution": {
     "iopub.execute_input": "2022-11-12T10:07:00.477855Z",
     "iopub.status.busy": "2022-11-12T10:07:00.477592Z",
     "iopub.status.idle": "2022-11-12T10:07:00.482946Z",
     "shell.execute_reply": "2022-11-12T10:07:00.481946Z"
    },
    "papermill": {
     "duration": 0.017701,
     "end_time": "2022-11-12T10:07:00.485349",
     "exception": false,
     "start_time": "2022-11-12T10:07:00.467648",
     "status": "completed"
    },
    "tags": []
   },
   "outputs": [],
   "source": [
    "def get_scheduler(optimizer, warmup, nsteps):\n",
    "    if CFG.scheduler_type == 'StepLR':\n",
    "        scheduler = StepLR(optimizer, step_size=2, gamma=0.1, verbose=True)\n",
    "    if CFG.scheduler_type == 'CosineLRScheduler':\n",
    "        scheduler = CosineLRScheduler(optimizer,\n",
    "                                      warmup_t=warmup, warmup_lr_init=0.0, warmup_prefix=True,\n",
    "                                      t_initial=(nsteps - warmup), lr_min=1e-6) \n",
    "    return scheduler"
   ]
  },
  {
   "cell_type": "code",
   "execution_count": 27,
   "id": "07a10bd7",
   "metadata": {
    "execution": {
     "iopub.execute_input": "2022-11-12T10:07:00.504736Z",
     "iopub.status.busy": "2022-11-12T10:07:00.504442Z",
     "iopub.status.idle": "2022-11-12T10:07:00.509319Z",
     "shell.execute_reply": "2022-11-12T10:07:00.508258Z"
    },
    "papermill": {
     "duration": 0.017203,
     "end_time": "2022-11-12T10:07:00.511612",
     "exception": false,
     "start_time": "2022-11-12T10:07:00.494409",
     "status": "completed"
    },
    "tags": []
   },
   "outputs": [],
   "source": [
    "def get_score(y_true, y_pred):\n",
    "    if CFG.score_method == \"roc_auc_score\":\n",
    "        score = roc_auc_score(y_true, y_pred)\n",
    "    if CFG.score_method == \"accuracy_score\":\n",
    "        score = accuracy_score(y_true, y_pred)\n",
    "    return score"
   ]
  },
  {
   "cell_type": "code",
   "execution_count": 28,
   "id": "bd5b93da",
   "metadata": {
    "execution": {
     "iopub.execute_input": "2022-11-12T10:07:00.531422Z",
     "iopub.status.busy": "2022-11-12T10:07:00.530679Z",
     "iopub.status.idle": "2022-11-12T10:07:00.538467Z",
     "shell.execute_reply": "2022-11-12T10:07:00.537676Z"
    },
    "papermill": {
     "duration": 0.019596,
     "end_time": "2022-11-12T10:07:00.540356",
     "exception": false,
     "start_time": "2022-11-12T10:07:00.520760",
     "status": "completed"
    },
    "tags": []
   },
   "outputs": [],
   "source": [
    "def transform(img):\n",
    "    transforms_time_mask = nn.Sequential(\n",
    "                torchaudio.transforms.TimeMasking(time_mask_param=10),\n",
    "            )\n",
    "    transforms_freq_mask = nn.Sequential(\n",
    "                torchaudio.transforms.FrequencyMasking(freq_mask_param=10),\n",
    "            )\n",
    "    if np.random.rand() <= CFG.flip_rate: # horizontal flip\n",
    "        img = np.flip(img, axis=1).copy()\n",
    "    if np.random.rand() <= CFG.flip_rate: # vertical flip\n",
    "        img = np.flip(img, axis=2).copy()\n",
    "    if np.random.rand() <= CFG.fre_shift_rate: # vertical shift\n",
    "        img = np.roll(img, np.random.randint(low=0, high=img.shape[1]), axis=1)\n",
    "            \n",
    "    img = torch.from_numpy(img)\n",
    "\n",
    "    for _ in range(CFG.time_mask_num): # tima masking\n",
    "        img = transforms_time_mask(img)\n",
    "    for _ in range(CFG.freq_mask_num): # frequency masking\n",
    "        img = transforms_freq_mask(img)\n",
    "        \n",
    "    return img"
   ]
  },
  {
   "cell_type": "code",
   "execution_count": 29,
   "id": "1ba97d44",
   "metadata": {
    "execution": {
     "iopub.execute_input": "2022-11-12T10:07:00.561390Z",
     "iopub.status.busy": "2022-11-12T10:07:00.559883Z",
     "iopub.status.idle": "2022-11-12T10:07:00.569993Z",
     "shell.execute_reply": "2022-11-12T10:07:00.569185Z"
    },
    "papermill": {
     "duration": 0.022174,
     "end_time": "2022-11-12T10:07:00.571933",
     "exception": false,
     "start_time": "2022-11-12T10:07:00.549759",
     "status": "completed"
    },
    "tags": []
   },
   "outputs": [],
   "source": [
    "class Dataset(torch.utils.data.Dataset):\n",
    "    \"\"\"\n",
    "    dataset = Dataset(data_type, df)\n",
    "\n",
    "    img, y = dataset[i]\n",
    "      img (np.float32): 2 x 360 x 128\n",
    "      y (np.float32): label 0 or 1\n",
    "    \"\"\"\n",
    "    def __init__(self, data_type, df):\n",
    "        self.data_type = data_type\n",
    "        self.df = df\n",
    "\n",
    "    def __len__(self):\n",
    "        return len(self.df)\n",
    "\n",
    "    def __getitem__(self, i):\n",
    "        \"\"\"\n",
    "        i (int): get ith data\n",
    "        \"\"\"\n",
    "        r = self.df.iloc[i]\n",
    "        y = np.float32(r.target)\n",
    "        file_id = r.id\n",
    "\n",
    "        img = np.empty((2, 360, 128), dtype=np.float32)\n",
    "\n",
    "        filename = '%s/%s/%s.hdf5' % (di, self.data_type, file_id)\n",
    "        with h5py.File(filename, 'r') as f:\n",
    "            g = f[file_id]\n",
    "\n",
    "            for ch, s in enumerate(['H1', 'L1']):\n",
    "                a = g[s]['SFTs'][:, :4096] * 1e22  # Fourier coefficient complex64\n",
    "\n",
    "                p = a.real**2 + a.imag**2  # power\n",
    "                p /= np.mean(p)  # normalize\n",
    "                p = np.mean(p.reshape(360, 128, 32), axis=2)  # compress 4096 -> 128\n",
    "\n",
    "                img[ch] = p\n",
    "                \n",
    "        if CFG.transform:\n",
    "            img = transform(img)\n",
    "\n",
    "        return img, y"
   ]
  },
  {
   "cell_type": "code",
   "execution_count": 30,
   "id": "08ca30ba",
   "metadata": {
    "execution": {
     "iopub.execute_input": "2022-11-12T10:07:00.591861Z",
     "iopub.status.busy": "2022-11-12T10:07:00.591588Z",
     "iopub.status.idle": "2022-11-12T10:07:01.365582Z",
     "shell.execute_reply": "2022-11-12T10:07:01.364607Z"
    },
    "papermill": {
     "duration": 0.787317,
     "end_time": "2022-11-12T10:07:01.368897",
     "exception": false,
     "start_time": "2022-11-12T10:07:00.581580",
     "status": "completed"
    },
    "tags": []
   },
   "outputs": [
    {
     "data": {
      "image/png": "[encoded data removed]",
      "text/plain": [
       "<Figure size 576x216 with 2 Axes>"
      ]
     },
     "metadata": {
      "needs_background": "light"
     },
     "output_type": "display_data"
    }
   ],
   "source": [
    "dataset = Dataset('train', train_labels)\n",
    "img, y = dataset[10]\n",
    "\n",
    "plt.figure(figsize=(8, 3))\n",
    "plt.title('Spectrogram')\n",
    "plt.xlabel('time')\n",
    "plt.ylabel('frequency')\n",
    "plt.imshow(img[0, 300:360]) # zooming in for dataset[10]\n",
    "plt.colorbar()\n",
    "plt.show()"
   ]
  },
  {
   "cell_type": "code",
   "execution_count": 31,
   "id": "2868420c",
   "metadata": {
    "execution": {
     "iopub.execute_input": "2022-11-12T10:07:01.392568Z",
     "iopub.status.busy": "2022-11-12T10:07:01.392274Z",
     "iopub.status.idle": "2022-11-12T10:07:01.398543Z",
     "shell.execute_reply": "2022-11-12T10:07:01.397438Z"
    },
    "papermill": {
     "duration": 0.020119,
     "end_time": "2022-11-12T10:07:01.400609",
     "exception": false,
     "start_time": "2022-11-12T10:07:01.380490",
     "status": "completed"
    },
    "tags": []
   },
   "outputs": [
    {
     "data": {
      "text/plain": [
       "600"
      ]
     },
     "execution_count": 31,
     "metadata": {},
     "output_type": "execute_result"
    }
   ],
   "source": [
    "len(dataset)"
   ]
  },
  {
   "cell_type": "code",
   "execution_count": 32,
   "id": "6f7eda97",
   "metadata": {
    "execution": {
     "iopub.execute_input": "2022-11-12T10:07:01.423268Z",
     "iopub.status.busy": "2022-11-12T10:07:01.422979Z",
     "iopub.status.idle": "2022-11-12T10:07:01.429225Z",
     "shell.execute_reply": "2022-11-12T10:07:01.428299Z"
    },
    "papermill": {
     "duration": 0.019897,
     "end_time": "2022-11-12T10:07:01.431252",
     "exception": false,
     "start_time": "2022-11-12T10:07:01.411355",
     "status": "completed"
    },
    "tags": []
   },
   "outputs": [],
   "source": [
    "class Model(nn.Module):\n",
    "    def __init__(self, name, *, pretrained=False):\n",
    "        \"\"\"\n",
    "        name (str): timm model name, e.g. tf_efficientnet_b2_ns\n",
    "        \"\"\"\n",
    "        super().__init__()\n",
    "\n",
    "        # Use timm\n",
    "        model = timm.create_model(name, pretrained=pretrained, in_chans=2)\n",
    "\n",
    "        clsf = model.default_cfg['classifier']\n",
    "        n_features = model._modules[clsf].in_features\n",
    "        model._modules[clsf] = nn.Identity()\n",
    "\n",
    "        self.fc = nn.Linear(n_features, 1)\n",
    "        self.model = model\n",
    "\n",
    "    def forward(self, x):\n",
    "        x = self.model(x)\n",
    "        x = self.fc(x)\n",
    "        return x"
   ]
  },
  {
   "cell_type": "code",
   "execution_count": 33,
   "id": "4c258b58",
   "metadata": {
    "execution": {
     "iopub.execute_input": "2022-11-12T10:07:01.454228Z",
     "iopub.status.busy": "2022-11-12T10:07:01.453528Z",
     "iopub.status.idle": "2022-11-12T10:07:01.466960Z",
     "shell.execute_reply": "2022-11-12T10:07:01.466163Z"
    },
    "papermill": {
     "duration": 0.027063,
     "end_time": "2022-11-12T10:07:01.468870",
     "exception": false,
     "start_time": "2022-11-12T10:07:01.441807",
     "status": "completed"
    },
    "tags": []
   },
   "outputs": [],
   "source": [
    "        \n",
    "def train_fn(train_loader, model, criterion, optimizer, epoch, scheduler, device):\n",
    "    model.train() # switch to training mode\n",
    "    nbatch = len(train_loader)\n",
    "    running_loss = 0\n",
    "    count = 0\n",
    "    tb = time.time()\n",
    "    \n",
    "    pbar = tqdm(train_loader, total=len(train_loader))\n",
    "    pbar.set_description(f\"[{epoch+1}/{CFG.epochs}] Train\")\n",
    "        \n",
    "    for ibatch, (images, labels) in enumerate(pbar):\n",
    "        images = images.to(device)\n",
    "        labels = labels.to(device)\n",
    "        y_preds = model(images)\n",
    "        loss = criterion(y_preds.view(-1), labels)\n",
    "        running_loss += loss.item()*labels.shape[0]\n",
    "        count += labels.shape[0]\n",
    "        \n",
    "        loss.backward()\n",
    "        grad_norm = nn.utils.clip_grad_norm_(model.parameters(), CFG.max_grad_norm)\n",
    "        optimizer.step()\n",
    "        scheduler.step(epoch * nbatch + ibatch + 1)\n",
    "        optimizer.zero_grad()\n",
    "            \n",
    "    lr_now = optimizer.param_groups[0]['lr']\n",
    "    dt = (time.time()-tb)/60\n",
    "    train_dict = {'loss': running_loss/count,\n",
    "                     'lr_now': lr_now,\n",
    "                     'time': dt}\n",
    "        \n",
    "    return train_dict\n",
    "\n",
    "\n",
    "def valid_fn(valid_loader, model, criterion, device, compute_score=True):\n",
    "    \n",
    "    tb = time.time() \n",
    "    model.eval() # switch to evaluation mode\n",
    "    preds = []\n",
    "    y_all = []\n",
    "    running_loss = 0\n",
    "    count = 0\n",
    "    \n",
    "    pbar = tqdm(valid_loader, total=len(valid_loader))\n",
    "    pbar.set_description(\"Validation\")\n",
    "    \n",
    "    for images, labels in pbar:\n",
    "        images = images.to(device)\n",
    "        labels = labels.to(device)\n",
    "        # compute loss\n",
    "        with torch.no_grad():\n",
    "            y_preds = model(images)\n",
    "        loss = criterion(y_preds.view(-1), labels)\n",
    "        running_loss += loss.item()*labels.shape[0]\n",
    "        count += labels.shape[0]\n",
    "        # record accuracy\n",
    "        y_all.append(labels.cpu().detach().numpy())\n",
    "        preds.append(y_preds.sigmoid().to('cpu').numpy())\n",
    "    \n",
    "    del loss, images, labels, y_preds\n",
    "    \n",
    "    y_ground = np.concatenate(y_all)\n",
    "    y_pred = np.concatenate(preds)\n",
    "    score = get_score(y_ground, y_pred) if compute_score else None \n",
    "    val_loss = running_loss/count\n",
    "    \n",
    "    val_dict = {'loss': val_loss,\n",
    "               'score': score,\n",
    "               'y': y,\n",
    "               'y_pred': y_pred,\n",
    "                'time': (time.time() - tb)/60\n",
    "               }\n",
    "    \n",
    "    return val_dict"
   ]
  },
  {
   "cell_type": "code",
   "execution_count": 34,
   "id": "d0dfc66e",
   "metadata": {
    "execution": {
     "iopub.execute_input": "2022-11-12T10:07:01.491768Z",
     "iopub.status.busy": "2022-11-12T10:07:01.491007Z",
     "iopub.status.idle": "2022-11-12T10:07:01.502296Z",
     "shell.execute_reply": "2022-11-12T10:07:01.501484Z"
    },
    "papermill": {
     "duration": 0.0247,
     "end_time": "2022-11-12T10:07:01.504252",
     "exception": false,
     "start_time": "2022-11-12T10:07:01.479552",
     "status": "completed"
    },
    "tags": []
   },
   "outputs": [],
   "source": [
    "# Train loop\n",
    "def train_loop(data):\n",
    "    \n",
    "    if CFG.is_cross_validate:\n",
    "    \n",
    "        kfold = StratifiedKFold(n_splits=CFG.nfold, random_state=42, shuffle=True)\n",
    "        for ifold, (idx_train, idx_test) in enumerate(kfold.split(data['id'], data['target'])):\n",
    "\n",
    "            print('Fold %d/%d' %(ifold, CFG.nfold))\n",
    "            torch.manual_seed(CFG.seed + ifold + 1)\n",
    "            # create dataset\n",
    "            train_dataset = Dataset('train', data.iloc[idx_train])\n",
    "            valid_dataset = Dataset('train', data.iloc[idx_test])\n",
    "\n",
    "            # create dataloaider\n",
    "            train_loader = DataLoader(train_dataset, batch_size=CFG.batch_size, shuffle=True, \n",
    "                                      num_workers=CFG.num_workers, pin_memory=True, drop_last=True)\n",
    "            valid_loader = DataLoader(valid_dataset, batch_size=CFG.batch_size, shuffle=False, \n",
    "                                      num_workers=CFG.num_workers, pin_memory=True, drop_last=False)\n",
    "\n",
    "            # create model and transfer to device\n",
    "\n",
    "            model = Model(CFG.model_name, pretrained=True)\n",
    "            model.to(device)\n",
    "\n",
    "            # select optimizer, scheduler and criterion\n",
    "            optimizer = get_optimizer(model)\n",
    "            nbatch = len(train_loader)\n",
    "            warmup = CFG.epochs_warmup*nbatch\n",
    "            nsteps = CFG.epochs*nbatch\n",
    "            scheduler = get_scheduler(optimizer, warmup, nsteps)\n",
    "            criterion = get_criterion()\n",
    "\n",
    "            time_val = 0.0\n",
    "            tb = time.time()\n",
    "            # start training\n",
    "            for epoch in range(CFG.epochs):\n",
    "                # train\n",
    "                train_dict = train_fn(train_loader, model, criterion, optimizer, epoch, scheduler, device)\n",
    "                # validation\n",
    "                val_dict = valid_fn(valid_loader, model, criterion, device)\n",
    "\n",
    "                time_val += val_dict['time']\n",
    "\n",
    "                print('Epoch = %d train_loss = %.4f val_loss = %.4f val_score = %.4f lr = %.2e time = %.2f min' % (epoch+1, train_dict['loss'], val_dict['loss'], \n",
    "                                                                 val_dict['score'], train_dict['lr_now'], train_dict['time']))\n",
    "            dt = (time.time() - tb)/60\n",
    "            print('Training done %.2f min total, %.2f min val'% (dt, time_val))\n",
    "\n",
    "            output_file = 'model%d.pytorch'%ifold\n",
    "            torch.save(model.state_dict(), output_file)\n",
    "            print(output_file, 'written')"
   ]
  },
  {
   "cell_type": "code",
   "execution_count": 35,
   "id": "317b4bbc",
   "metadata": {
    "execution": {
     "iopub.execute_input": "2022-11-12T10:07:01.527370Z",
     "iopub.status.busy": "2022-11-12T10:07:01.526757Z",
     "iopub.status.idle": "2022-11-12T10:07:01.530958Z",
     "shell.execute_reply": "2022-11-12T10:07:01.530041Z"
    },
    "papermill": {
     "duration": 0.017556,
     "end_time": "2022-11-12T10:07:01.532893",
     "exception": false,
     "start_time": "2022-11-12T10:07:01.515337",
     "status": "completed"
    },
    "tags": []
   },
   "outputs": [],
   "source": [
    "# main\n",
    "def main():\n",
    "    if CFG.train: \n",
    "        # train\n",
    "        train_loop(train_labels)"
   ]
  },
  {
   "cell_type": "code",
   "execution_count": 36,
   "id": "f5868015",
   "metadata": {
    "execution": {
     "iopub.execute_input": "2022-11-12T10:07:01.556007Z",
     "iopub.status.busy": "2022-11-12T10:07:01.555229Z",
     "iopub.status.idle": "2022-11-12T14:51:18.434745Z",
     "shell.execute_reply": "2022-11-12T14:51:18.433258Z"
    },
    "papermill": {
     "duration": 17056.893259,
     "end_time": "2022-11-12T14:51:18.436877",
     "exception": false,
     "start_time": "2022-11-12T10:07:01.543618",
     "status": "completed"
    },
    "tags": []
   },
   "outputs": [
    {
     "name": "stdout",
     "output_type": "stream",
     "text": [
      "Fold 0/5\n"
     ]
    },
    {
     "name": "stderr",
     "output_type": "stream",
     "text": [
      "Downloading: \"https://github.com/rwightman/pytorch-image-models/releases/download/v0.1-weights/tf_efficientnet_b4_ns-d6313a46.pth\" to /root/.cache/torch/hub/checkpoints/tf_efficientnet_b4_ns-d6313a46.pth\n",
      "[1/25] Train: 100%|██████████| 15/15 [01:53<00:00,  7.57s/it]\n",
      "Validation: 100%|██████████| 4/4 [00:27<00:00,  6.84s/it]\n"
     ]
    },
    {
     "name": "stdout",
     "output_type": "stream",
     "text": [
      "Epoch = 1 train_loss = 0.6821 val_loss = 0.6510 val_score = 0.4634 lr = 4.00e-04 time = 1.89 min\n"
     ]
    },
    {
     "name": "stderr",
     "output_type": "stream",
     "text": [
      "[2/25] Train: 100%|██████████| 15/15 [02:00<00:00,  8.03s/it]\n",
      "Validation: 100%|██████████| 4/4 [00:32<00:00,  8.20s/it]\n"
     ]
    },
    {
     "name": "stdout",
     "output_type": "stream",
     "text": [
      "Epoch = 2 train_loss = 0.6357 val_loss = 0.6226 val_score = 0.6253 lr = 3.98e-04 time = 2.01 min\n"
     ]
    },
    {
     "name": "stderr",
     "output_type": "stream",
     "text": [
      "[3/25] Train: 100%|██████████| 15/15 [01:55<00:00,  7.71s/it]\n",
      "Validation: 100%|██████████| 4/4 [00:30<00:00,  7.53s/it]\n"
     ]
    },
    {
     "name": "stdout",
     "output_type": "stream",
     "text": [
      "Epoch = 3 train_loss = 0.6140 val_loss = 0.5577 val_score = 0.7116 lr = 3.93e-04 time = 1.93 min\n"
     ]
    },
    {
     "name": "stderr",
     "output_type": "stream",
     "text": [
      "[4/25] Train: 100%|██████████| 15/15 [01:55<00:00,  7.68s/it]\n",
      "Validation: 100%|██████████| 4/4 [00:29<00:00,  7.44s/it]\n"
     ]
    },
    {
     "name": "stdout",
     "output_type": "stream",
     "text": [
      "Epoch = 4 train_loss = 0.5767 val_loss = 0.5344 val_score = 0.7069 lr = 3.85e-04 time = 1.92 min\n"
     ]
    },
    {
     "name": "stderr",
     "output_type": "stream",
     "text": [
      "[5/25] Train: 100%|██████████| 15/15 [02:01<00:00,  8.07s/it]\n",
      "Validation: 100%|██████████| 4/4 [00:29<00:00,  7.42s/it]\n"
     ]
    },
    {
     "name": "stdout",
     "output_type": "stream",
     "text": [
      "Epoch = 5 train_loss = 0.5506 val_loss = 0.5273 val_score = 0.7188 lr = 3.73e-04 time = 2.02 min\n"
     ]
    },
    {
     "name": "stderr",
     "output_type": "stream",
     "text": [
      "[6/25] Train: 100%|██████████| 15/15 [01:54<00:00,  7.65s/it]\n",
      "Validation: 100%|██████████| 4/4 [00:29<00:00,  7.26s/it]\n"
     ]
    },
    {
     "name": "stdout",
     "output_type": "stream",
     "text": [
      "Epoch = 6 train_loss = 0.5451 val_loss = 0.4844 val_score = 0.7947 lr = 3.59e-04 time = 1.91 min\n"
     ]
    },
    {
     "name": "stderr",
     "output_type": "stream",
     "text": [
      "[7/25] Train: 100%|██████████| 15/15 [01:51<00:00,  7.45s/it]\n",
      "Validation: 100%|██████████| 4/4 [00:28<00:00,  7.04s/it]\n"
     ]
    },
    {
     "name": "stdout",
     "output_type": "stream",
     "text": [
      "Epoch = 7 train_loss = 0.5369 val_loss = 0.4876 val_score = 0.7244 lr = 3.42e-04 time = 1.86 min\n"
     ]
    },
    {
     "name": "stderr",
     "output_type": "stream",
     "text": [
      "[8/25] Train: 100%|██████████| 15/15 [01:51<00:00,  7.46s/it]\n",
      "Validation: 100%|██████████| 4/4 [00:26<00:00,  6.50s/it]\n"
     ]
    },
    {
     "name": "stdout",
     "output_type": "stream",
     "text": [
      "Epoch = 8 train_loss = 0.5206 val_loss = 0.4586 val_score = 0.7994 lr = 3.22e-04 time = 1.87 min\n"
     ]
    },
    {
     "name": "stderr",
     "output_type": "stream",
     "text": [
      "[9/25] Train: 100%|██████████| 15/15 [01:49<00:00,  7.29s/it]\n",
      "Validation: 100%|██████████| 4/4 [00:24<00:00,  6.24s/it]\n"
     ]
    },
    {
     "name": "stdout",
     "output_type": "stream",
     "text": [
      "Epoch = 9 train_loss = 0.4900 val_loss = 0.4748 val_score = 0.7762 lr = 3.00e-04 time = 1.82 min\n"
     ]
    },
    {
     "name": "stderr",
     "output_type": "stream",
     "text": [
      "[10/25] Train: 100%|██████████| 15/15 [01:48<00:00,  7.24s/it]\n",
      "Validation: 100%|██████████| 4/4 [00:25<00:00,  6.43s/it]\n"
     ]
    },
    {
     "name": "stdout",
     "output_type": "stream",
     "text": [
      "Epoch = 10 train_loss = 0.5074 val_loss = 0.4897 val_score = 0.7594 lr = 2.77e-04 time = 1.81 min\n"
     ]
    },
    {
     "name": "stderr",
     "output_type": "stream",
     "text": [
      "[11/25] Train: 100%|██████████| 15/15 [02:00<00:00,  8.01s/it]\n",
      "Validation: 100%|██████████| 4/4 [00:33<00:00,  8.39s/it]\n"
     ]
    },
    {
     "name": "stdout",
     "output_type": "stream",
     "text": [
      "Epoch = 11 train_loss = 0.4992 val_loss = 0.4981 val_score = 0.7381 lr = 2.52e-04 time = 2.00 min\n"
     ]
    },
    {
     "name": "stderr",
     "output_type": "stream",
     "text": [
      "[12/25] Train: 100%|██████████| 15/15 [01:55<00:00,  7.72s/it]\n",
      "Validation: 100%|██████████| 4/4 [00:25<00:00,  6.28s/it]\n"
     ]
    },
    {
     "name": "stdout",
     "output_type": "stream",
     "text": [
      "Epoch = 12 train_loss = 0.5001 val_loss = 0.4525 val_score = 0.8059 lr = 2.27e-04 time = 1.93 min\n"
     ]
    },
    {
     "name": "stderr",
     "output_type": "stream",
     "text": [
      "[13/25] Train: 100%|██████████| 15/15 [01:47<00:00,  7.14s/it]\n",
      "Validation: 100%|██████████| 4/4 [00:28<00:00,  7.11s/it]\n"
     ]
    },
    {
     "name": "stdout",
     "output_type": "stream",
     "text": [
      "Epoch = 13 train_loss = 0.4971 val_loss = 0.4617 val_score = 0.7784 lr = 2.00e-04 time = 1.79 min\n"
     ]
    },
    {
     "name": "stderr",
     "output_type": "stream",
     "text": [
      "[14/25] Train: 100%|██████████| 15/15 [01:49<00:00,  7.32s/it]\n",
      "Validation: 100%|██████████| 4/4 [00:28<00:00,  7.05s/it]\n"
     ]
    },
    {
     "name": "stdout",
     "output_type": "stream",
     "text": [
      "Epoch = 14 train_loss = 0.4836 val_loss = 0.4872 val_score = 0.7384 lr = 1.74e-04 time = 1.83 min\n"
     ]
    },
    {
     "name": "stderr",
     "output_type": "stream",
     "text": [
      "[15/25] Train: 100%|██████████| 15/15 [01:48<00:00,  7.21s/it]\n",
      "Validation: 100%|██████████| 4/4 [00:28<00:00,  7.12s/it]\n"
     ]
    },
    {
     "name": "stdout",
     "output_type": "stream",
     "text": [
      "Epoch = 15 train_loss = 0.4893 val_loss = 0.5031 val_score = 0.7256 lr = 1.49e-04 time = 1.80 min\n"
     ]
    },
    {
     "name": "stderr",
     "output_type": "stream",
     "text": [
      "[16/25] Train: 100%|██████████| 15/15 [01:47<00:00,  7.19s/it]\n",
      "Validation: 100%|██████████| 4/4 [00:27<00:00,  6.98s/it]\n"
     ]
    },
    {
     "name": "stdout",
     "output_type": "stream",
     "text": [
      "Epoch = 16 train_loss = 0.5021 val_loss = 0.4632 val_score = 0.8128 lr = 1.24e-04 time = 1.80 min\n"
     ]
    },
    {
     "name": "stderr",
     "output_type": "stream",
     "text": [
      "[17/25] Train: 100%|██████████| 15/15 [01:48<00:00,  7.23s/it]\n",
      "Validation: 100%|██████████| 4/4 [00:27<00:00,  6.98s/it]\n"
     ]
    },
    {
     "name": "stdout",
     "output_type": "stream",
     "text": [
      "Epoch = 17 train_loss = 0.4777 val_loss = 0.4756 val_score = 0.7569 lr = 1.01e-04 time = 1.81 min\n"
     ]
    },
    {
     "name": "stderr",
     "output_type": "stream",
     "text": [
      "[18/25] Train: 100%|██████████| 15/15 [01:49<00:00,  7.27s/it]\n",
      "Validation: 100%|██████████| 4/4 [00:28<00:00,  7.03s/it]\n"
     ]
    },
    {
     "name": "stdout",
     "output_type": "stream",
     "text": [
      "Epoch = 18 train_loss = 0.4586 val_loss = 0.4897 val_score = 0.7581 lr = 7.91e-05 time = 1.82 min\n"
     ]
    },
    {
     "name": "stderr",
     "output_type": "stream",
     "text": [
      "[19/25] Train: 100%|██████████| 15/15 [01:50<00:00,  7.37s/it]\n",
      "Validation: 100%|██████████| 4/4 [00:32<00:00,  8.14s/it]\n"
     ]
    },
    {
     "name": "stdout",
     "output_type": "stream",
     "text": [
      "Epoch = 19 train_loss = 0.4659 val_loss = 0.4774 val_score = 0.7638 lr = 5.94e-05 time = 1.84 min\n"
     ]
    },
    {
     "name": "stderr",
     "output_type": "stream",
     "text": [
      "[20/25] Train: 100%|██████████| 15/15 [01:49<00:00,  7.29s/it]\n",
      "Validation: 100%|██████████| 4/4 [00:27<00:00,  6.94s/it]\n"
     ]
    },
    {
     "name": "stdout",
     "output_type": "stream",
     "text": [
      "Epoch = 20 train_loss = 0.4568 val_loss = 0.4536 val_score = 0.8234 lr = 4.22e-05 time = 1.82 min\n"
     ]
    },
    {
     "name": "stderr",
     "output_type": "stream",
     "text": [
      "[21/25] Train: 100%|██████████| 15/15 [01:51<00:00,  7.41s/it]\n",
      "Validation: 100%|██████████| 4/4 [00:28<00:00,  7.09s/it]\n"
     ]
    },
    {
     "name": "stdout",
     "output_type": "stream",
     "text": [
      "Epoch = 21 train_loss = 0.4612 val_loss = 0.4770 val_score = 0.7741 lr = 2.77e-05 time = 1.85 min\n"
     ]
    },
    {
     "name": "stderr",
     "output_type": "stream",
     "text": [
      "[22/25] Train: 100%|██████████| 15/15 [01:48<00:00,  7.26s/it]\n",
      "Validation: 100%|██████████| 4/4 [00:27<00:00,  7.00s/it]\n"
     ]
    },
    {
     "name": "stdout",
     "output_type": "stream",
     "text": [
      "Epoch = 22 train_loss = 0.4531 val_loss = 0.4519 val_score = 0.8184 lr = 1.62e-05 time = 1.82 min\n"
     ]
    },
    {
     "name": "stderr",
     "output_type": "stream",
     "text": [
      "[23/25] Train: 100%|██████████| 15/15 [01:48<00:00,  7.26s/it]\n",
      "Validation: 100%|██████████| 4/4 [00:26<00:00,  6.72s/it]\n"
     ]
    },
    {
     "name": "stdout",
     "output_type": "stream",
     "text": [
      "Epoch = 23 train_loss = 0.4580 val_loss = 0.4628 val_score = 0.7800 lr = 7.80e-06 time = 1.82 min\n"
     ]
    },
    {
     "name": "stderr",
     "output_type": "stream",
     "text": [
      "[24/25] Train: 100%|██████████| 15/15 [01:43<00:00,  6.93s/it]\n",
      "Validation: 100%|██████████| 4/4 [00:25<00:00,  6.43s/it]\n"
     ]
    },
    {
     "name": "stdout",
     "output_type": "stream",
     "text": [
      "Epoch = 24 train_loss = 0.4680 val_loss = 0.4766 val_score = 0.7712 lr = 2.71e-06 time = 1.73 min\n"
     ]
    },
    {
     "name": "stderr",
     "output_type": "stream",
     "text": [
      "[25/25] Train: 100%|██████████| 15/15 [01:43<00:00,  6.88s/it]\n",
      "Validation: 100%|██████████| 4/4 [00:27<00:00,  6.75s/it]\n"
     ]
    },
    {
     "name": "stdout",
     "output_type": "stream",
     "text": [
      "Epoch = 25 train_loss = 0.4526 val_loss = 0.4592 val_score = 0.8012 lr = 1.00e-06 time = 1.72 min\n",
      "Training done 58.22 min total, 11.80 min val\n",
      "model0.pytorch written\n",
      "Fold 1/5\n"
     ]
    },
    {
     "name": "stderr",
     "output_type": "stream",
     "text": [
      "[1/25] Train: 100%|██████████| 15/15 [01:49<00:00,  7.31s/it]\n",
      "Validation: 100%|██████████| 4/4 [00:28<00:00,  7.02s/it]\n"
     ]
    },
    {
     "name": "stdout",
     "output_type": "stream",
     "text": [
      "Epoch = 1 train_loss = 0.6775 val_loss = 0.6340 val_score = 0.5956 lr = 4.00e-04 time = 1.83 min\n"
     ]
    },
    {
     "name": "stderr",
     "output_type": "stream",
     "text": [
      "[2/25] Train: 100%|██████████| 15/15 [01:47<00:00,  7.19s/it]\n",
      "Validation: 100%|██████████| 4/4 [00:27<00:00,  6.79s/it]\n"
     ]
    },
    {
     "name": "stdout",
     "output_type": "stream",
     "text": [
      "Epoch = 2 train_loss = 0.6130 val_loss = 0.6850 val_score = 0.6022 lr = 3.98e-04 time = 1.80 min\n"
     ]
    },
    {
     "name": "stderr",
     "output_type": "stream",
     "text": [
      "[3/25] Train: 100%|██████████| 15/15 [01:55<00:00,  7.70s/it]\n",
      "Validation: 100%|██████████| 4/4 [00:26<00:00,  6.66s/it]\n"
     ]
    },
    {
     "name": "stdout",
     "output_type": "stream",
     "text": [
      "Epoch = 3 train_loss = 0.5844 val_loss = 0.5807 val_score = 0.6566 lr = 3.93e-04 time = 1.92 min\n"
     ]
    },
    {
     "name": "stderr",
     "output_type": "stream",
     "text": [
      "[4/25] Train: 100%|██████████| 15/15 [01:43<00:00,  6.88s/it]\n",
      "Validation: 100%|██████████| 4/4 [00:26<00:00,  6.51s/it]\n"
     ]
    },
    {
     "name": "stdout",
     "output_type": "stream",
     "text": [
      "Epoch = 4 train_loss = 0.5698 val_loss = 0.5622 val_score = 0.6869 lr = 3.85e-04 time = 1.72 min\n"
     ]
    },
    {
     "name": "stderr",
     "output_type": "stream",
     "text": [
      "[5/25] Train: 100%|██████████| 15/15 [01:46<00:00,  7.07s/it]\n",
      "Validation: 100%|██████████| 4/4 [00:26<00:00,  6.66s/it]\n"
     ]
    },
    {
     "name": "stdout",
     "output_type": "stream",
     "text": [
      "Epoch = 5 train_loss = 0.5293 val_loss = 0.5801 val_score = 0.6725 lr = 3.73e-04 time = 1.77 min\n"
     ]
    },
    {
     "name": "stderr",
     "output_type": "stream",
     "text": [
      "[6/25] Train: 100%|██████████| 15/15 [01:43<00:00,  6.91s/it]\n",
      "Validation: 100%|██████████| 4/4 [00:26<00:00,  6.65s/it]\n"
     ]
    },
    {
     "name": "stdout",
     "output_type": "stream",
     "text": [
      "Epoch = 6 train_loss = 0.5297 val_loss = 0.5495 val_score = 0.7062 lr = 3.59e-04 time = 1.73 min\n"
     ]
    },
    {
     "name": "stderr",
     "output_type": "stream",
     "text": [
      "[7/25] Train: 100%|██████████| 15/15 [01:44<00:00,  6.98s/it]\n",
      "Validation: 100%|██████████| 4/4 [00:27<00:00,  6.75s/it]\n"
     ]
    },
    {
     "name": "stdout",
     "output_type": "stream",
     "text": [
      "Epoch = 7 train_loss = 0.5047 val_loss = 0.5182 val_score = 0.7303 lr = 3.42e-04 time = 1.75 min\n"
     ]
    },
    {
     "name": "stderr",
     "output_type": "stream",
     "text": [
      "[8/25] Train: 100%|██████████| 15/15 [01:43<00:00,  6.87s/it]\n",
      "Validation: 100%|██████████| 4/4 [00:26<00:00,  6.67s/it]\n"
     ]
    },
    {
     "name": "stdout",
     "output_type": "stream",
     "text": [
      "Epoch = 8 train_loss = 0.5119 val_loss = 0.5152 val_score = 0.7497 lr = 3.22e-04 time = 1.72 min\n"
     ]
    },
    {
     "name": "stderr",
     "output_type": "stream",
     "text": [
      "[9/25] Train: 100%|██████████| 15/15 [01:42<00:00,  6.86s/it]\n",
      "Validation: 100%|██████████| 4/4 [00:26<00:00,  6.64s/it]\n"
     ]
    },
    {
     "name": "stdout",
     "output_type": "stream",
     "text": [
      "Epoch = 9 train_loss = 0.5224 val_loss = 0.5133 val_score = 0.7219 lr = 3.00e-04 time = 1.71 min\n"
     ]
    },
    {
     "name": "stderr",
     "output_type": "stream",
     "text": [
      "[10/25] Train: 100%|██████████| 15/15 [01:43<00:00,  6.87s/it]\n",
      "Validation: 100%|██████████| 4/4 [00:26<00:00,  6.54s/it]\n"
     ]
    },
    {
     "name": "stdout",
     "output_type": "stream",
     "text": [
      "Epoch = 10 train_loss = 0.5120 val_loss = 0.5138 val_score = 0.7013 lr = 2.77e-04 time = 1.72 min\n"
     ]
    },
    {
     "name": "stderr",
     "output_type": "stream",
     "text": [
      "[11/25] Train: 100%|██████████| 15/15 [01:42<00:00,  6.86s/it]\n",
      "Validation: 100%|██████████| 4/4 [00:26<00:00,  6.52s/it]\n"
     ]
    },
    {
     "name": "stdout",
     "output_type": "stream",
     "text": [
      "Epoch = 11 train_loss = 0.4957 val_loss = 0.5135 val_score = 0.7275 lr = 2.52e-04 time = 1.71 min\n"
     ]
    },
    {
     "name": "stderr",
     "output_type": "stream",
     "text": [
      "[12/25] Train: 100%|██████████| 15/15 [01:43<00:00,  6.91s/it]\n",
      "Validation: 100%|██████████| 4/4 [00:25<00:00,  6.34s/it]\n"
     ]
    },
    {
     "name": "stdout",
     "output_type": "stream",
     "text": [
      "Epoch = 12 train_loss = 0.4805 val_loss = 0.4993 val_score = 0.7547 lr = 2.27e-04 time = 1.73 min\n"
     ]
    },
    {
     "name": "stderr",
     "output_type": "stream",
     "text": [
      "[13/25] Train: 100%|██████████| 15/15 [01:42<00:00,  6.83s/it]\n",
      "Validation: 100%|██████████| 4/4 [00:26<00:00,  6.65s/it]\n"
     ]
    },
    {
     "name": "stdout",
     "output_type": "stream",
     "text": [
      "Epoch = 13 train_loss = 0.4690 val_loss = 0.4665 val_score = 0.8075 lr = 2.00e-04 time = 1.71 min\n"
     ]
    },
    {
     "name": "stderr",
     "output_type": "stream",
     "text": [
      "[14/25] Train: 100%|██████████| 15/15 [01:46<00:00,  7.12s/it]\n",
      "Validation: 100%|██████████| 4/4 [00:25<00:00,  6.32s/it]\n"
     ]
    },
    {
     "name": "stdout",
     "output_type": "stream",
     "text": [
      "Epoch = 14 train_loss = 0.4881 val_loss = 0.4901 val_score = 0.7859 lr = 1.74e-04 time = 1.78 min\n"
     ]
    },
    {
     "name": "stderr",
     "output_type": "stream",
     "text": [
      "[15/25] Train: 100%|██████████| 15/15 [01:41<00:00,  6.79s/it]\n",
      "Validation: 100%|██████████| 4/4 [00:26<00:00,  6.59s/it]\n"
     ]
    },
    {
     "name": "stdout",
     "output_type": "stream",
     "text": [
      "Epoch = 15 train_loss = 0.4701 val_loss = 0.5201 val_score = 0.7006 lr = 1.49e-04 time = 1.70 min\n"
     ]
    },
    {
     "name": "stderr",
     "output_type": "stream",
     "text": [
      "[16/25] Train: 100%|██████████| 15/15 [01:40<00:00,  6.71s/it]\n",
      "Validation: 100%|██████████| 4/4 [00:25<00:00,  6.30s/it]\n"
     ]
    },
    {
     "name": "stdout",
     "output_type": "stream",
     "text": [
      "Epoch = 16 train_loss = 0.4763 val_loss = 0.5171 val_score = 0.7241 lr = 1.24e-04 time = 1.68 min\n"
     ]
    },
    {
     "name": "stderr",
     "output_type": "stream",
     "text": [
      "[17/25] Train: 100%|██████████| 15/15 [01:41<00:00,  6.76s/it]\n",
      "Validation: 100%|██████████| 4/4 [00:24<00:00,  6.22s/it]\n"
     ]
    },
    {
     "name": "stdout",
     "output_type": "stream",
     "text": [
      "Epoch = 17 train_loss = 0.4594 val_loss = 0.4835 val_score = 0.7644 lr = 1.01e-04 time = 1.69 min\n"
     ]
    },
    {
     "name": "stderr",
     "output_type": "stream",
     "text": [
      "[18/25] Train: 100%|██████████| 15/15 [01:40<00:00,  6.72s/it]\n",
      "Validation: 100%|██████████| 4/4 [00:26<00:00,  6.57s/it]\n"
     ]
    },
    {
     "name": "stdout",
     "output_type": "stream",
     "text": [
      "Epoch = 18 train_loss = 0.4463 val_loss = 0.5422 val_score = 0.7103 lr = 7.91e-05 time = 1.68 min\n"
     ]
    },
    {
     "name": "stderr",
     "output_type": "stream",
     "text": [
      "[19/25] Train: 100%|██████████| 15/15 [01:46<00:00,  7.09s/it]\n",
      "Validation: 100%|██████████| 4/4 [00:30<00:00,  7.61s/it]\n"
     ]
    },
    {
     "name": "stdout",
     "output_type": "stream",
     "text": [
      "Epoch = 19 train_loss = 0.4521 val_loss = 0.5426 val_score = 0.7137 lr = 5.94e-05 time = 1.77 min\n"
     ]
    },
    {
     "name": "stderr",
     "output_type": "stream",
     "text": [
      "[20/25] Train: 100%|██████████| 15/15 [01:45<00:00,  7.00s/it]\n",
      "Validation: 100%|██████████| 4/4 [00:27<00:00,  6.80s/it]\n"
     ]
    },
    {
     "name": "stdout",
     "output_type": "stream",
     "text": [
      "Epoch = 20 train_loss = 0.4678 val_loss = 0.5091 val_score = 0.7337 lr = 4.22e-05 time = 1.75 min\n"
     ]
    },
    {
     "name": "stderr",
     "output_type": "stream",
     "text": [
      "[21/25] Train: 100%|██████████| 15/15 [01:45<00:00,  7.01s/it]\n",
      "Validation: 100%|██████████| 4/4 [00:26<00:00,  6.68s/it]\n"
     ]
    },
    {
     "name": "stdout",
     "output_type": "stream",
     "text": [
      "Epoch = 21 train_loss = 0.4631 val_loss = 0.5481 val_score = 0.6787 lr = 2.77e-05 time = 1.75 min\n"
     ]
    },
    {
     "name": "stderr",
     "output_type": "stream",
     "text": [
      "[22/25] Train: 100%|██████████| 15/15 [01:41<00:00,  6.77s/it]\n",
      "Validation: 100%|██████████| 4/4 [00:26<00:00,  6.60s/it]\n"
     ]
    },
    {
     "name": "stdout",
     "output_type": "stream",
     "text": [
      "Epoch = 22 train_loss = 0.4373 val_loss = 0.5179 val_score = 0.7350 lr = 1.62e-05 time = 1.69 min\n"
     ]
    },
    {
     "name": "stderr",
     "output_type": "stream",
     "text": [
      "[23/25] Train: 100%|██████████| 15/15 [01:43<00:00,  6.88s/it]\n",
      "Validation: 100%|██████████| 4/4 [00:24<00:00,  6.18s/it]\n"
     ]
    },
    {
     "name": "stdout",
     "output_type": "stream",
     "text": [
      "Epoch = 23 train_loss = 0.4363 val_loss = 0.5243 val_score = 0.7334 lr = 7.80e-06 time = 1.72 min\n"
     ]
    },
    {
     "name": "stderr",
     "output_type": "stream",
     "text": [
      "[24/25] Train: 100%|██████████| 15/15 [01:44<00:00,  7.00s/it]\n",
      "Validation: 100%|██████████| 4/4 [00:26<00:00,  6.66s/it]\n"
     ]
    },
    {
     "name": "stdout",
     "output_type": "stream",
     "text": [
      "Epoch = 24 train_loss = 0.4418 val_loss = 0.4803 val_score = 0.7741 lr = 2.71e-06 time = 1.75 min\n"
     ]
    },
    {
     "name": "stderr",
     "output_type": "stream",
     "text": [
      "[25/25] Train: 100%|██████████| 15/15 [01:43<00:00,  6.91s/it]\n",
      "Validation: 100%|██████████| 4/4 [00:26<00:00,  6.54s/it]\n"
     ]
    },
    {
     "name": "stdout",
     "output_type": "stream",
     "text": [
      "Epoch = 25 train_loss = 0.4448 val_loss = 0.5115 val_score = 0.7353 lr = 1.00e-06 time = 1.73 min\n",
      "Training done 54.54 min total, 11.04 min val\n",
      "model1.pytorch written\n",
      "Fold 2/5\n"
     ]
    },
    {
     "name": "stderr",
     "output_type": "stream",
     "text": [
      "[1/25] Train: 100%|██████████| 15/15 [01:42<00:00,  6.85s/it]\n",
      "Validation: 100%|██████████| 4/4 [00:25<00:00,  6.40s/it]\n"
     ]
    },
    {
     "name": "stdout",
     "output_type": "stream",
     "text": [
      "Epoch = 1 train_loss = 0.6582 val_loss = 0.6733 val_score = 0.4747 lr = 4.00e-04 time = 1.71 min\n"
     ]
    },
    {
     "name": "stderr",
     "output_type": "stream",
     "text": [
      "[2/25] Train: 100%|██████████| 15/15 [01:41<00:00,  6.76s/it]\n",
      "Validation: 100%|██████████| 4/4 [00:30<00:00,  7.62s/it]\n"
     ]
    },
    {
     "name": "stdout",
     "output_type": "stream",
     "text": [
      "Epoch = 2 train_loss = 0.6312 val_loss = 0.6079 val_score = 0.6475 lr = 3.98e-04 time = 1.69 min\n"
     ]
    },
    {
     "name": "stderr",
     "output_type": "stream",
     "text": [
      "[3/25] Train: 100%|██████████| 15/15 [01:51<00:00,  7.44s/it]\n",
      "Validation: 100%|██████████| 4/4 [00:26<00:00,  6.53s/it]\n"
     ]
    },
    {
     "name": "stdout",
     "output_type": "stream",
     "text": [
      "Epoch = 3 train_loss = 0.5923 val_loss = 0.5795 val_score = 0.6825 lr = 3.93e-04 time = 1.86 min\n"
     ]
    },
    {
     "name": "stderr",
     "output_type": "stream",
     "text": [
      "[4/25] Train: 100%|██████████| 15/15 [01:55<00:00,  7.67s/it]\n",
      "Validation: 100%|██████████| 4/4 [00:36<00:00,  9.08s/it]\n"
     ]
    },
    {
     "name": "stdout",
     "output_type": "stream",
     "text": [
      "Epoch = 4 train_loss = 0.5727 val_loss = 0.5630 val_score = 0.6825 lr = 3.85e-04 time = 1.92 min\n"
     ]
    },
    {
     "name": "stderr",
     "output_type": "stream",
     "text": [
      "[5/25] Train: 100%|██████████| 15/15 [02:03<00:00,  8.21s/it]\n",
      "Validation: 100%|██████████| 4/4 [00:26<00:00,  6.59s/it]\n"
     ]
    },
    {
     "name": "stdout",
     "output_type": "stream",
     "text": [
      "Epoch = 5 train_loss = 0.5466 val_loss = 0.5478 val_score = 0.7141 lr = 3.73e-04 time = 2.05 min\n"
     ]
    },
    {
     "name": "stderr",
     "output_type": "stream",
     "text": [
      "[6/25] Train: 100%|██████████| 15/15 [01:42<00:00,  6.82s/it]\n",
      "Validation: 100%|██████████| 4/4 [00:26<00:00,  6.62s/it]\n"
     ]
    },
    {
     "name": "stdout",
     "output_type": "stream",
     "text": [
      "Epoch = 6 train_loss = 0.5259 val_loss = 0.5357 val_score = 0.7087 lr = 3.59e-04 time = 1.71 min\n"
     ]
    },
    {
     "name": "stderr",
     "output_type": "stream",
     "text": [
      "[7/25] Train: 100%|██████████| 15/15 [01:47<00:00,  7.18s/it]\n",
      "Validation: 100%|██████████| 4/4 [00:25<00:00,  6.48s/it]\n"
     ]
    },
    {
     "name": "stdout",
     "output_type": "stream",
     "text": [
      "Epoch = 7 train_loss = 0.5223 val_loss = 0.5196 val_score = 0.7078 lr = 3.42e-04 time = 1.80 min\n"
     ]
    },
    {
     "name": "stderr",
     "output_type": "stream",
     "text": [
      "[8/25] Train: 100%|██████████| 15/15 [01:40<00:00,  6.68s/it]\n",
      "Validation: 100%|██████████| 4/4 [00:26<00:00,  6.57s/it]\n"
     ]
    },
    {
     "name": "stdout",
     "output_type": "stream",
     "text": [
      "Epoch = 8 train_loss = 0.5031 val_loss = 0.5503 val_score = 0.7037 lr = 3.22e-04 time = 1.67 min\n"
     ]
    },
    {
     "name": "stderr",
     "output_type": "stream",
     "text": [
      "[9/25] Train: 100%|██████████| 15/15 [01:40<00:00,  6.67s/it]\n",
      "Validation: 100%|██████████| 4/4 [00:25<00:00,  6.45s/it]\n"
     ]
    },
    {
     "name": "stdout",
     "output_type": "stream",
     "text": [
      "Epoch = 9 train_loss = 0.5175 val_loss = 0.5366 val_score = 0.6891 lr = 3.00e-04 time = 1.67 min\n"
     ]
    },
    {
     "name": "stderr",
     "output_type": "stream",
     "text": [
      "[10/25] Train: 100%|██████████| 15/15 [01:48<00:00,  7.24s/it]\n",
      "Validation: 100%|██████████| 4/4 [00:33<00:00,  8.41s/it]\n"
     ]
    },
    {
     "name": "stdout",
     "output_type": "stream",
     "text": [
      "Epoch = 10 train_loss = 0.5014 val_loss = 0.4795 val_score = 0.8150 lr = 2.77e-04 time = 1.81 min\n"
     ]
    },
    {
     "name": "stderr",
     "output_type": "stream",
     "text": [
      "[11/25] Train: 100%|██████████| 15/15 [02:03<00:00,  8.25s/it]\n",
      "Validation: 100%|██████████| 4/4 [00:28<00:00,  7.12s/it]\n"
     ]
    },
    {
     "name": "stdout",
     "output_type": "stream",
     "text": [
      "Epoch = 11 train_loss = 0.4927 val_loss = 0.5000 val_score = 0.7591 lr = 2.52e-04 time = 2.06 min\n"
     ]
    },
    {
     "name": "stderr",
     "output_type": "stream",
     "text": [
      "[12/25] Train: 100%|██████████| 15/15 [01:43<00:00,  6.90s/it]\n",
      "Validation: 100%|██████████| 4/4 [00:25<00:00,  6.50s/it]\n"
     ]
    },
    {
     "name": "stdout",
     "output_type": "stream",
     "text": [
      "Epoch = 12 train_loss = 0.4961 val_loss = 0.5215 val_score = 0.7319 lr = 2.27e-04 time = 1.72 min\n"
     ]
    },
    {
     "name": "stderr",
     "output_type": "stream",
     "text": [
      "[13/25] Train: 100%|██████████| 15/15 [01:44<00:00,  6.94s/it]\n",
      "Validation: 100%|██████████| 4/4 [00:25<00:00,  6.37s/it]\n"
     ]
    },
    {
     "name": "stdout",
     "output_type": "stream",
     "text": [
      "Epoch = 13 train_loss = 0.4843 val_loss = 0.5264 val_score = 0.6897 lr = 2.00e-04 time = 1.74 min\n"
     ]
    },
    {
     "name": "stderr",
     "output_type": "stream",
     "text": [
      "[14/25] Train: 100%|██████████| 15/15 [01:40<00:00,  6.69s/it]\n",
      "Validation: 100%|██████████| 4/4 [00:25<00:00,  6.46s/it]\n"
     ]
    },
    {
     "name": "stdout",
     "output_type": "stream",
     "text": [
      "Epoch = 14 train_loss = 0.4851 val_loss = 0.5224 val_score = 0.7447 lr = 1.74e-04 time = 1.67 min\n"
     ]
    },
    {
     "name": "stderr",
     "output_type": "stream",
     "text": [
      "[15/25] Train: 100%|██████████| 15/15 [01:38<00:00,  6.58s/it]\n",
      "Validation: 100%|██████████| 4/4 [00:25<00:00,  6.42s/it]\n"
     ]
    },
    {
     "name": "stdout",
     "output_type": "stream",
     "text": [
      "Epoch = 15 train_loss = 0.4828 val_loss = 0.5452 val_score = 0.6787 lr = 1.49e-04 time = 1.65 min\n"
     ]
    },
    {
     "name": "stderr",
     "output_type": "stream",
     "text": [
      "[16/25] Train: 100%|██████████| 15/15 [01:41<00:00,  6.73s/it]\n",
      "Validation: 100%|██████████| 4/4 [00:25<00:00,  6.35s/it]\n"
     ]
    },
    {
     "name": "stdout",
     "output_type": "stream",
     "text": [
      "Epoch = 16 train_loss = 0.4617 val_loss = 0.5201 val_score = 0.7031 lr = 1.24e-04 time = 1.68 min\n"
     ]
    },
    {
     "name": "stderr",
     "output_type": "stream",
     "text": [
      "[17/25] Train: 100%|██████████| 15/15 [01:38<00:00,  6.58s/it]\n",
      "Validation: 100%|██████████| 4/4 [00:25<00:00,  6.42s/it]\n"
     ]
    },
    {
     "name": "stdout",
     "output_type": "stream",
     "text": [
      "Epoch = 17 train_loss = 0.4877 val_loss = 0.4831 val_score = 0.7859 lr = 1.01e-04 time = 1.64 min\n"
     ]
    },
    {
     "name": "stderr",
     "output_type": "stream",
     "text": [
      "[18/25] Train: 100%|██████████| 15/15 [01:38<00:00,  6.59s/it]\n",
      "Validation: 100%|██████████| 4/4 [00:25<00:00,  6.41s/it]\n"
     ]
    },
    {
     "name": "stdout",
     "output_type": "stream",
     "text": [
      "Epoch = 18 train_loss = 0.4675 val_loss = 0.5162 val_score = 0.6822 lr = 7.91e-05 time = 1.65 min\n"
     ]
    },
    {
     "name": "stderr",
     "output_type": "stream",
     "text": [
      "[19/25] Train: 100%|██████████| 15/15 [01:41<00:00,  6.76s/it]\n",
      "Validation: 100%|██████████| 4/4 [00:25<00:00,  6.46s/it]\n"
     ]
    },
    {
     "name": "stdout",
     "output_type": "stream",
     "text": [
      "Epoch = 19 train_loss = 0.4822 val_loss = 0.4737 val_score = 0.7784 lr = 5.94e-05 time = 1.69 min\n"
     ]
    },
    {
     "name": "stderr",
     "output_type": "stream",
     "text": [
      "[20/25] Train: 100%|██████████| 15/15 [01:40<00:00,  6.73s/it]\n",
      "Validation: 100%|██████████| 4/4 [00:26<00:00,  6.53s/it]\n"
     ]
    },
    {
     "name": "stdout",
     "output_type": "stream",
     "text": [
      "Epoch = 20 train_loss = 0.4684 val_loss = 0.4831 val_score = 0.7847 lr = 4.22e-05 time = 1.68 min\n"
     ]
    },
    {
     "name": "stderr",
     "output_type": "stream",
     "text": [
      "[21/25] Train: 100%|██████████| 15/15 [01:42<00:00,  6.87s/it]\n",
      "Validation: 100%|██████████| 4/4 [00:26<00:00,  6.70s/it]\n"
     ]
    },
    {
     "name": "stdout",
     "output_type": "stream",
     "text": [
      "Epoch = 21 train_loss = 0.4613 val_loss = 0.4554 val_score = 0.8184 lr = 2.77e-05 time = 1.72 min\n"
     ]
    },
    {
     "name": "stderr",
     "output_type": "stream",
     "text": [
      "[22/25] Train: 100%|██████████| 15/15 [01:43<00:00,  6.89s/it]\n",
      "Validation: 100%|██████████| 4/4 [00:30<00:00,  7.74s/it]\n"
     ]
    },
    {
     "name": "stdout",
     "output_type": "stream",
     "text": [
      "Epoch = 22 train_loss = 0.4699 val_loss = 0.4626 val_score = 0.8134 lr = 1.62e-05 time = 1.72 min\n"
     ]
    },
    {
     "name": "stderr",
     "output_type": "stream",
     "text": [
      "[23/25] Train: 100%|██████████| 15/15 [02:29<00:00,  9.96s/it]\n",
      "Validation: 100%|██████████| 4/4 [00:27<00:00,  6.99s/it]\n"
     ]
    },
    {
     "name": "stdout",
     "output_type": "stream",
     "text": [
      "Epoch = 23 train_loss = 0.4531 val_loss = 0.4833 val_score = 0.7644 lr = 7.80e-06 time = 2.49 min\n"
     ]
    },
    {
     "name": "stderr",
     "output_type": "stream",
     "text": [
      "[24/25] Train: 100%|██████████| 15/15 [01:44<00:00,  7.00s/it]\n",
      "Validation: 100%|██████████| 4/4 [00:25<00:00,  6.30s/it]\n"
     ]
    },
    {
     "name": "stdout",
     "output_type": "stream",
     "text": [
      "Epoch = 24 train_loss = 0.4555 val_loss = 0.5003 val_score = 0.7328 lr = 2.71e-06 time = 1.75 min\n"
     ]
    },
    {
     "name": "stderr",
     "output_type": "stream",
     "text": [
      "[25/25] Train: 100%|██████████| 15/15 [01:44<00:00,  6.97s/it]\n",
      "Validation: 100%|██████████| 4/4 [00:26<00:00,  6.64s/it]\n"
     ]
    },
    {
     "name": "stdout",
     "output_type": "stream",
     "text": [
      "Epoch = 25 train_loss = 0.4536 val_loss = 0.5025 val_score = 0.6953 lr = 1.00e-06 time = 1.74 min\n",
      "Training done 55.84 min total, 11.35 min val\n",
      "model2.pytorch written\n",
      "Fold 3/5\n"
     ]
    },
    {
     "name": "stderr",
     "output_type": "stream",
     "text": [
      "[1/25] Train: 100%|██████████| 15/15 [01:43<00:00,  6.92s/it]\n",
      "Validation: 100%|██████████| 4/4 [00:26<00:00,  6.61s/it]\n"
     ]
    },
    {
     "name": "stdout",
     "output_type": "stream",
     "text": [
      "Epoch = 1 train_loss = 0.6795 val_loss = 0.6466 val_score = 0.5316 lr = 4.00e-04 time = 1.73 min\n"
     ]
    },
    {
     "name": "stderr",
     "output_type": "stream",
     "text": [
      "[2/25] Train: 100%|██████████| 15/15 [01:46<00:00,  7.08s/it]\n",
      "Validation: 100%|██████████| 4/4 [00:26<00:00,  6.74s/it]\n"
     ]
    },
    {
     "name": "stdout",
     "output_type": "stream",
     "text": [
      "Epoch = 2 train_loss = 0.6156 val_loss = 0.7419 val_score = 0.6269 lr = 3.98e-04 time = 1.77 min\n"
     ]
    },
    {
     "name": "stderr",
     "output_type": "stream",
     "text": [
      "[3/25] Train: 100%|██████████| 15/15 [01:47<00:00,  7.18s/it]\n",
      "Validation: 100%|██████████| 4/4 [00:27<00:00,  6.80s/it]\n"
     ]
    },
    {
     "name": "stdout",
     "output_type": "stream",
     "text": [
      "Epoch = 3 train_loss = 0.5945 val_loss = 0.5710 val_score = 0.6959 lr = 3.93e-04 time = 1.80 min\n"
     ]
    },
    {
     "name": "stderr",
     "output_type": "stream",
     "text": [
      "[4/25] Train: 100%|██████████| 15/15 [01:49<00:00,  7.29s/it]\n",
      "Validation: 100%|██████████| 4/4 [00:26<00:00,  6.72s/it]\n"
     ]
    },
    {
     "name": "stdout",
     "output_type": "stream",
     "text": [
      "Epoch = 4 train_loss = 0.5562 val_loss = 0.5437 val_score = 0.7263 lr = 3.85e-04 time = 1.82 min\n"
     ]
    },
    {
     "name": "stderr",
     "output_type": "stream",
     "text": [
      "[5/25] Train: 100%|██████████| 15/15 [01:46<00:00,  7.11s/it]\n",
      "Validation: 100%|██████████| 4/4 [00:27<00:00,  6.78s/it]\n"
     ]
    },
    {
     "name": "stdout",
     "output_type": "stream",
     "text": [
      "Epoch = 5 train_loss = 0.5548 val_loss = 0.5142 val_score = 0.7703 lr = 3.73e-04 time = 1.78 min\n"
     ]
    },
    {
     "name": "stderr",
     "output_type": "stream",
     "text": [
      "[6/25] Train: 100%|██████████| 15/15 [01:46<00:00,  7.12s/it]\n",
      "Validation: 100%|██████████| 4/4 [00:27<00:00,  6.85s/it]\n"
     ]
    },
    {
     "name": "stdout",
     "output_type": "stream",
     "text": [
      "Epoch = 6 train_loss = 0.5305 val_loss = 0.5232 val_score = 0.6928 lr = 3.59e-04 time = 1.78 min\n"
     ]
    },
    {
     "name": "stderr",
     "output_type": "stream",
     "text": [
      "[7/25] Train: 100%|██████████| 15/15 [01:45<00:00,  7.02s/it]\n",
      "Validation: 100%|██████████| 4/4 [00:27<00:00,  6.82s/it]\n"
     ]
    },
    {
     "name": "stdout",
     "output_type": "stream",
     "text": [
      "Epoch = 7 train_loss = 0.5052 val_loss = 0.5440 val_score = 0.6806 lr = 3.42e-04 time = 1.76 min\n"
     ]
    },
    {
     "name": "stderr",
     "output_type": "stream",
     "text": [
      "[8/25] Train: 100%|██████████| 15/15 [01:46<00:00,  7.09s/it]\n",
      "Validation: 100%|██████████| 4/4 [00:27<00:00,  6.84s/it]\n"
     ]
    },
    {
     "name": "stdout",
     "output_type": "stream",
     "text": [
      "Epoch = 8 train_loss = 0.5083 val_loss = 0.5035 val_score = 0.7209 lr = 3.22e-04 time = 1.77 min\n"
     ]
    },
    {
     "name": "stderr",
     "output_type": "stream",
     "text": [
      "[9/25] Train: 100%|██████████| 15/15 [01:49<00:00,  7.32s/it]\n",
      "Validation: 100%|██████████| 4/4 [00:31<00:00,  7.77s/it]\n"
     ]
    },
    {
     "name": "stdout",
     "output_type": "stream",
     "text": [
      "Epoch = 9 train_loss = 0.5135 val_loss = 0.5105 val_score = 0.7125 lr = 3.00e-04 time = 1.83 min\n"
     ]
    },
    {
     "name": "stderr",
     "output_type": "stream",
     "text": [
      "[10/25] Train: 100%|██████████| 15/15 [02:08<00:00,  8.60s/it]\n",
      "Validation: 100%|██████████| 4/4 [00:27<00:00,  6.81s/it]\n"
     ]
    },
    {
     "name": "stdout",
     "output_type": "stream",
     "text": [
      "Epoch = 10 train_loss = 0.4909 val_loss = 0.5058 val_score = 0.7541 lr = 2.77e-04 time = 2.15 min\n"
     ]
    },
    {
     "name": "stderr",
     "output_type": "stream",
     "text": [
      "[11/25] Train: 100%|██████████| 15/15 [01:46<00:00,  7.09s/it]\n",
      "Validation: 100%|██████████| 4/4 [00:27<00:00,  6.81s/it]\n"
     ]
    },
    {
     "name": "stdout",
     "output_type": "stream",
     "text": [
      "Epoch = 11 train_loss = 0.5005 val_loss = 0.4877 val_score = 0.7622 lr = 2.52e-04 time = 1.77 min\n"
     ]
    },
    {
     "name": "stderr",
     "output_type": "stream",
     "text": [
      "[12/25] Train: 100%|██████████| 15/15 [01:50<00:00,  7.34s/it]\n",
      "Validation: 100%|██████████| 4/4 [00:27<00:00,  6.79s/it]\n"
     ]
    },
    {
     "name": "stdout",
     "output_type": "stream",
     "text": [
      "Epoch = 12 train_loss = 0.4948 val_loss = 0.5014 val_score = 0.7169 lr = 2.27e-04 time = 1.83 min\n"
     ]
    },
    {
     "name": "stderr",
     "output_type": "stream",
     "text": [
      "[13/25] Train: 100%|██████████| 15/15 [01:46<00:00,  7.13s/it]\n",
      "Validation: 100%|██████████| 4/4 [00:28<00:00,  7.02s/it]\n"
     ]
    },
    {
     "name": "stdout",
     "output_type": "stream",
     "text": [
      "Epoch = 13 train_loss = 0.4905 val_loss = 0.5284 val_score = 0.6897 lr = 2.00e-04 time = 1.78 min\n"
     ]
    },
    {
     "name": "stderr",
     "output_type": "stream",
     "text": [
      "[14/25] Train: 100%|██████████| 15/15 [01:56<00:00,  7.79s/it]\n",
      "Validation: 100%|██████████| 4/4 [00:27<00:00,  6.87s/it]\n"
     ]
    },
    {
     "name": "stdout",
     "output_type": "stream",
     "text": [
      "Epoch = 14 train_loss = 0.4779 val_loss = 0.5038 val_score = 0.7197 lr = 1.74e-04 time = 1.95 min\n"
     ]
    },
    {
     "name": "stderr",
     "output_type": "stream",
     "text": [
      "[15/25] Train: 100%|██████████| 15/15 [01:52<00:00,  7.52s/it]\n",
      "Validation: 100%|██████████| 4/4 [00:31<00:00,  7.76s/it]\n"
     ]
    },
    {
     "name": "stdout",
     "output_type": "stream",
     "text": [
      "Epoch = 15 train_loss = 0.4782 val_loss = 0.5088 val_score = 0.7269 lr = 1.49e-04 time = 1.88 min\n"
     ]
    },
    {
     "name": "stderr",
     "output_type": "stream",
     "text": [
      "[16/25] Train: 100%|██████████| 15/15 [02:03<00:00,  8.22s/it]\n",
      "Validation: 100%|██████████| 4/4 [00:27<00:00,  6.80s/it]\n"
     ]
    },
    {
     "name": "stdout",
     "output_type": "stream",
     "text": [
      "Epoch = 16 train_loss = 0.4802 val_loss = 0.4792 val_score = 0.7719 lr = 1.24e-04 time = 2.05 min\n"
     ]
    },
    {
     "name": "stderr",
     "output_type": "stream",
     "text": [
      "[17/25] Train: 100%|██████████| 15/15 [01:45<00:00,  7.02s/it]\n",
      "Validation: 100%|██████████| 4/4 [00:26<00:00,  6.74s/it]\n"
     ]
    },
    {
     "name": "stdout",
     "output_type": "stream",
     "text": [
      "Epoch = 17 train_loss = 0.4980 val_loss = 0.4845 val_score = 0.7803 lr = 1.01e-04 time = 1.75 min\n"
     ]
    },
    {
     "name": "stderr",
     "output_type": "stream",
     "text": [
      "[18/25] Train: 100%|██████████| 15/15 [01:46<00:00,  7.12s/it]\n",
      "Validation: 100%|██████████| 4/4 [00:24<00:00,  6.18s/it]\n"
     ]
    },
    {
     "name": "stdout",
     "output_type": "stream",
     "text": [
      "Epoch = 18 train_loss = 0.4794 val_loss = 0.4581 val_score = 0.8569 lr = 7.91e-05 time = 1.78 min\n"
     ]
    },
    {
     "name": "stderr",
     "output_type": "stream",
     "text": [
      "[19/25] Train: 100%|██████████| 15/15 [01:46<00:00,  7.10s/it]\n",
      "Validation: 100%|██████████| 4/4 [00:27<00:00,  6.81s/it]\n"
     ]
    },
    {
     "name": "stdout",
     "output_type": "stream",
     "text": [
      "Epoch = 19 train_loss = 0.4788 val_loss = 0.4827 val_score = 0.8006 lr = 5.94e-05 time = 1.77 min\n"
     ]
    },
    {
     "name": "stderr",
     "output_type": "stream",
     "text": [
      "[20/25] Train: 100%|██████████| 15/15 [01:47<00:00,  7.19s/it]\n",
      "Validation: 100%|██████████| 4/4 [00:27<00:00,  6.83s/it]\n"
     ]
    },
    {
     "name": "stdout",
     "output_type": "stream",
     "text": [
      "Epoch = 20 train_loss = 0.4687 val_loss = 0.4843 val_score = 0.7772 lr = 4.22e-05 time = 1.80 min\n"
     ]
    },
    {
     "name": "stderr",
     "output_type": "stream",
     "text": [
      "[21/25] Train: 100%|██████████| 15/15 [01:49<00:00,  7.30s/it]\n",
      "Validation: 100%|██████████| 4/4 [00:26<00:00,  6.72s/it]\n"
     ]
    },
    {
     "name": "stdout",
     "output_type": "stream",
     "text": [
      "Epoch = 21 train_loss = 0.4550 val_loss = 0.4747 val_score = 0.7991 lr = 2.77e-05 time = 1.82 min\n"
     ]
    },
    {
     "name": "stderr",
     "output_type": "stream",
     "text": [
      "[22/25] Train: 100%|██████████| 15/15 [01:47<00:00,  7.14s/it]\n",
      "Validation: 100%|██████████| 4/4 [00:27<00:00,  6.90s/it]\n"
     ]
    },
    {
     "name": "stdout",
     "output_type": "stream",
     "text": [
      "Epoch = 22 train_loss = 0.4601 val_loss = 0.4780 val_score = 0.7719 lr = 1.62e-05 time = 1.78 min\n"
     ]
    },
    {
     "name": "stderr",
     "output_type": "stream",
     "text": [
      "[23/25] Train: 100%|██████████| 15/15 [01:48<00:00,  7.22s/it]\n",
      "Validation: 100%|██████████| 4/4 [00:28<00:00,  7.11s/it]\n"
     ]
    },
    {
     "name": "stdout",
     "output_type": "stream",
     "text": [
      "Epoch = 23 train_loss = 0.4571 val_loss = 0.4809 val_score = 0.7828 lr = 7.80e-06 time = 1.81 min\n"
     ]
    },
    {
     "name": "stderr",
     "output_type": "stream",
     "text": [
      "[24/25] Train: 100%|██████████| 15/15 [01:52<00:00,  7.49s/it]\n",
      "Validation: 100%|██████████| 4/4 [00:27<00:00,  6.89s/it]\n"
     ]
    },
    {
     "name": "stdout",
     "output_type": "stream",
     "text": [
      "Epoch = 24 train_loss = 0.4530 val_loss = 0.4634 val_score = 0.7812 lr = 2.71e-06 time = 1.87 min\n"
     ]
    },
    {
     "name": "stderr",
     "output_type": "stream",
     "text": [
      "[25/25] Train: 100%|██████████| 15/15 [01:48<00:00,  7.22s/it]\n",
      "Validation: 100%|██████████| 4/4 [00:29<00:00,  7.26s/it]\n"
     ]
    },
    {
     "name": "stdout",
     "output_type": "stream",
     "text": [
      "Epoch = 25 train_loss = 0.4636 val_loss = 0.4808 val_score = 0.7788 lr = 1.00e-06 time = 1.80 min\n",
      "Training done 57.15 min total, 11.49 min val\n",
      "model3.pytorch written\n",
      "Fold 4/5\n"
     ]
    },
    {
     "name": "stderr",
     "output_type": "stream",
     "text": [
      "[1/25] Train: 100%|██████████| 15/15 [01:49<00:00,  7.33s/it]\n",
      "Validation: 100%|██████████| 4/4 [00:27<00:00,  6.86s/it]\n"
     ]
    },
    {
     "name": "stdout",
     "output_type": "stream",
     "text": [
      "Epoch = 1 train_loss = 0.6621 val_loss = 0.7104 val_score = 0.4763 lr = 4.00e-04 time = 1.83 min\n"
     ]
    },
    {
     "name": "stderr",
     "output_type": "stream",
     "text": [
      "[2/25] Train: 100%|██████████| 15/15 [01:54<00:00,  7.62s/it]\n",
      "Validation: 100%|██████████| 4/4 [00:39<00:00,  9.98s/it]\n"
     ]
    },
    {
     "name": "stdout",
     "output_type": "stream",
     "text": [
      "Epoch = 2 train_loss = 0.6259 val_loss = 0.6204 val_score = 0.6184 lr = 3.98e-04 time = 1.90 min\n"
     ]
    },
    {
     "name": "stderr",
     "output_type": "stream",
     "text": [
      "[3/25] Train: 100%|██████████| 15/15 [02:13<00:00,  8.90s/it]\n",
      "Validation: 100%|██████████| 4/4 [00:33<00:00,  8.26s/it]\n"
     ]
    },
    {
     "name": "stdout",
     "output_type": "stream",
     "text": [
      "Epoch = 3 train_loss = 0.5830 val_loss = 0.5523 val_score = 0.7147 lr = 3.93e-04 time = 2.22 min\n"
     ]
    },
    {
     "name": "stderr",
     "output_type": "stream",
     "text": [
      "[4/25] Train: 100%|██████████| 15/15 [02:09<00:00,  8.64s/it]\n",
      "Validation: 100%|██████████| 4/4 [00:27<00:00,  6.88s/it]\n"
     ]
    },
    {
     "name": "stdout",
     "output_type": "stream",
     "text": [
      "Epoch = 4 train_loss = 0.5626 val_loss = 0.5733 val_score = 0.6716 lr = 3.85e-04 time = 2.16 min\n"
     ]
    },
    {
     "name": "stderr",
     "output_type": "stream",
     "text": [
      "[5/25] Train: 100%|██████████| 15/15 [01:47<00:00,  7.18s/it]\n",
      "Validation: 100%|██████████| 4/4 [00:27<00:00,  6.83s/it]\n"
     ]
    },
    {
     "name": "stdout",
     "output_type": "stream",
     "text": [
      "Epoch = 5 train_loss = 0.5351 val_loss = 0.5677 val_score = 0.7009 lr = 3.73e-04 time = 1.79 min\n"
     ]
    },
    {
     "name": "stderr",
     "output_type": "stream",
     "text": [
      "[6/25] Train: 100%|██████████| 15/15 [01:47<00:00,  7.18s/it]\n",
      "Validation: 100%|██████████| 4/4 [00:27<00:00,  6.93s/it]\n"
     ]
    },
    {
     "name": "stdout",
     "output_type": "stream",
     "text": [
      "Epoch = 6 train_loss = 0.5132 val_loss = 0.6154 val_score = 0.7169 lr = 3.59e-04 time = 1.79 min\n"
     ]
    },
    {
     "name": "stderr",
     "output_type": "stream",
     "text": [
      "[7/25] Train: 100%|██████████| 15/15 [01:46<00:00,  7.10s/it]\n",
      "Validation: 100%|██████████| 4/4 [00:28<00:00,  7.00s/it]\n"
     ]
    },
    {
     "name": "stdout",
     "output_type": "stream",
     "text": [
      "Epoch = 7 train_loss = 0.5194 val_loss = 0.5097 val_score = 0.6925 lr = 3.42e-04 time = 1.78 min\n"
     ]
    },
    {
     "name": "stderr",
     "output_type": "stream",
     "text": [
      "[8/25] Train: 100%|██████████| 15/15 [01:48<00:00,  7.23s/it]\n",
      "Validation: 100%|██████████| 4/4 [00:27<00:00,  6.93s/it]\n"
     ]
    },
    {
     "name": "stdout",
     "output_type": "stream",
     "text": [
      "Epoch = 8 train_loss = 0.5029 val_loss = 0.5057 val_score = 0.7316 lr = 3.22e-04 time = 1.81 min\n"
     ]
    },
    {
     "name": "stderr",
     "output_type": "stream",
     "text": [
      "[9/25] Train: 100%|██████████| 15/15 [01:47<00:00,  7.17s/it]\n",
      "Validation: 100%|██████████| 4/4 [00:27<00:00,  6.77s/it]\n"
     ]
    },
    {
     "name": "stdout",
     "output_type": "stream",
     "text": [
      "Epoch = 9 train_loss = 0.5043 val_loss = 0.5205 val_score = 0.7234 lr = 3.00e-04 time = 1.79 min\n"
     ]
    },
    {
     "name": "stderr",
     "output_type": "stream",
     "text": [
      "[10/25] Train: 100%|██████████| 15/15 [01:45<00:00,  7.06s/it]\n",
      "Validation: 100%|██████████| 4/4 [00:27<00:00,  6.75s/it]\n"
     ]
    },
    {
     "name": "stdout",
     "output_type": "stream",
     "text": [
      "Epoch = 10 train_loss = 0.5085 val_loss = 0.5319 val_score = 0.7244 lr = 2.77e-04 time = 1.76 min\n"
     ]
    },
    {
     "name": "stderr",
     "output_type": "stream",
     "text": [
      "[11/25] Train: 100%|██████████| 15/15 [01:47<00:00,  7.17s/it]\n",
      "Validation: 100%|██████████| 4/4 [00:27<00:00,  6.85s/it]\n"
     ]
    },
    {
     "name": "stdout",
     "output_type": "stream",
     "text": [
      "Epoch = 11 train_loss = 0.4925 val_loss = 0.5256 val_score = 0.7262 lr = 2.52e-04 time = 1.79 min\n"
     ]
    },
    {
     "name": "stderr",
     "output_type": "stream",
     "text": [
      "[12/25] Train: 100%|██████████| 15/15 [01:49<00:00,  7.31s/it]\n",
      "Validation: 100%|██████████| 4/4 [00:27<00:00,  6.89s/it]\n"
     ]
    },
    {
     "name": "stdout",
     "output_type": "stream",
     "text": [
      "Epoch = 12 train_loss = 0.4868 val_loss = 0.5053 val_score = 0.7406 lr = 2.27e-04 time = 1.83 min\n"
     ]
    },
    {
     "name": "stderr",
     "output_type": "stream",
     "text": [
      "[13/25] Train: 100%|██████████| 15/15 [01:45<00:00,  7.04s/it]\n",
      "Validation: 100%|██████████| 4/4 [00:26<00:00,  6.71s/it]\n"
     ]
    },
    {
     "name": "stdout",
     "output_type": "stream",
     "text": [
      "Epoch = 13 train_loss = 0.4826 val_loss = 0.5144 val_score = 0.7112 lr = 2.00e-04 time = 1.76 min\n"
     ]
    },
    {
     "name": "stderr",
     "output_type": "stream",
     "text": [
      "[14/25] Train: 100%|██████████| 15/15 [01:46<00:00,  7.13s/it]\n",
      "Validation: 100%|██████████| 4/4 [00:27<00:00,  6.82s/it]\n"
     ]
    },
    {
     "name": "stdout",
     "output_type": "stream",
     "text": [
      "Epoch = 14 train_loss = 0.4694 val_loss = 0.4898 val_score = 0.7453 lr = 1.74e-04 time = 1.78 min\n"
     ]
    },
    {
     "name": "stderr",
     "output_type": "stream",
     "text": [
      "[15/25] Train: 100%|██████████| 15/15 [01:48<00:00,  7.21s/it]\n",
      "Validation: 100%|██████████| 4/4 [00:27<00:00,  6.80s/it]\n"
     ]
    },
    {
     "name": "stdout",
     "output_type": "stream",
     "text": [
      "Epoch = 15 train_loss = 0.4568 val_loss = 0.4913 val_score = 0.7578 lr = 1.49e-04 time = 1.80 min\n"
     ]
    },
    {
     "name": "stderr",
     "output_type": "stream",
     "text": [
      "[16/25] Train: 100%|██████████| 15/15 [01:51<00:00,  7.40s/it]\n",
      "Validation: 100%|██████████| 4/4 [00:27<00:00,  6.91s/it]\n"
     ]
    },
    {
     "name": "stdout",
     "output_type": "stream",
     "text": [
      "Epoch = 16 train_loss = 0.4565 val_loss = 0.4818 val_score = 0.7806 lr = 1.24e-04 time = 1.85 min\n"
     ]
    },
    {
     "name": "stderr",
     "output_type": "stream",
     "text": [
      "[17/25] Train: 100%|██████████| 15/15 [01:48<00:00,  7.23s/it]\n",
      "Validation: 100%|██████████| 4/4 [00:26<00:00,  6.75s/it]\n"
     ]
    },
    {
     "name": "stdout",
     "output_type": "stream",
     "text": [
      "Epoch = 17 train_loss = 0.4707 val_loss = 0.4942 val_score = 0.7859 lr = 1.01e-04 time = 1.81 min\n"
     ]
    },
    {
     "name": "stderr",
     "output_type": "stream",
     "text": [
      "[18/25] Train: 100%|██████████| 15/15 [01:47<00:00,  7.19s/it]\n",
      "Validation: 100%|██████████| 4/4 [00:27<00:00,  6.80s/it]\n"
     ]
    },
    {
     "name": "stdout",
     "output_type": "stream",
     "text": [
      "Epoch = 18 train_loss = 0.4729 val_loss = 0.4933 val_score = 0.7559 lr = 7.91e-05 time = 1.80 min\n"
     ]
    },
    {
     "name": "stderr",
     "output_type": "stream",
     "text": [
      "[19/25] Train: 100%|██████████| 15/15 [01:46<00:00,  7.08s/it]\n",
      "Validation: 100%|██████████| 4/4 [00:27<00:00,  6.84s/it]\n"
     ]
    },
    {
     "name": "stdout",
     "output_type": "stream",
     "text": [
      "Epoch = 19 train_loss = 0.4697 val_loss = 0.4959 val_score = 0.7406 lr = 5.94e-05 time = 1.77 min\n"
     ]
    },
    {
     "name": "stderr",
     "output_type": "stream",
     "text": [
      "[20/25] Train: 100%|██████████| 15/15 [01:48<00:00,  7.26s/it]\n",
      "Validation: 100%|██████████| 4/4 [00:28<00:00,  7.25s/it]\n"
     ]
    },
    {
     "name": "stdout",
     "output_type": "stream",
     "text": [
      "Epoch = 20 train_loss = 0.4463 val_loss = 0.4920 val_score = 0.7569 lr = 4.22e-05 time = 1.82 min\n"
     ]
    },
    {
     "name": "stderr",
     "output_type": "stream",
     "text": [
      "[21/25] Train: 100%|██████████| 15/15 [01:54<00:00,  7.66s/it]\n",
      "Validation: 100%|██████████| 4/4 [00:28<00:00,  7.11s/it]\n"
     ]
    },
    {
     "name": "stdout",
     "output_type": "stream",
     "text": [
      "Epoch = 21 train_loss = 0.4501 val_loss = 0.4832 val_score = 0.7797 lr = 2.77e-05 time = 1.91 min\n"
     ]
    },
    {
     "name": "stderr",
     "output_type": "stream",
     "text": [
      "[22/25] Train: 100%|██████████| 15/15 [02:02<00:00,  8.17s/it]\n",
      "Validation: 100%|██████████| 4/4 [00:28<00:00,  7.01s/it]\n"
     ]
    },
    {
     "name": "stdout",
     "output_type": "stream",
     "text": [
      "Epoch = 22 train_loss = 0.4676 val_loss = 0.5021 val_score = 0.7253 lr = 1.62e-05 time = 2.04 min\n"
     ]
    },
    {
     "name": "stderr",
     "output_type": "stream",
     "text": [
      "[23/25] Train: 100%|██████████| 15/15 [01:49<00:00,  7.30s/it]\n",
      "Validation: 100%|██████████| 4/4 [00:26<00:00,  6.70s/it]\n"
     ]
    },
    {
     "name": "stdout",
     "output_type": "stream",
     "text": [
      "Epoch = 23 train_loss = 0.4493 val_loss = 0.5110 val_score = 0.7578 lr = 7.80e-06 time = 1.82 min\n"
     ]
    },
    {
     "name": "stderr",
     "output_type": "stream",
     "text": [
      "[24/25] Train: 100%|██████████| 15/15 [01:49<00:00,  7.32s/it]\n",
      "Validation: 100%|██████████| 4/4 [00:27<00:00,  6.87s/it]\n"
     ]
    },
    {
     "name": "stdout",
     "output_type": "stream",
     "text": [
      "Epoch = 24 train_loss = 0.4368 val_loss = 0.5089 val_score = 0.7391 lr = 2.71e-06 time = 1.83 min\n"
     ]
    },
    {
     "name": "stderr",
     "output_type": "stream",
     "text": [
      "[25/25] Train: 100%|██████████| 15/15 [02:03<00:00,  8.22s/it]\n",
      "Validation: 100%|██████████| 4/4 [00:27<00:00,  6.98s/it]\n"
     ]
    },
    {
     "name": "stdout",
     "output_type": "stream",
     "text": [
      "Epoch = 25 train_loss = 0.4510 val_loss = 0.4746 val_score = 0.8069 lr = 1.00e-06 time = 2.05 min\n",
      "Training done 58.30 min total, 11.77 min val\n",
      "model4.pytorch written\n"
     ]
    }
   ],
   "source": [
    "if __name__ == '__main__':\n",
    "    main()"
   ]
  },
  {
   "cell_type": "code",
   "execution_count": 37,
   "id": "30e9ccec",
   "metadata": {
    "execution": {
     "iopub.execute_input": "2022-11-12T14:51:18.887486Z",
     "iopub.status.busy": "2022-11-12T14:51:18.887080Z",
     "iopub.status.idle": "2022-11-12T14:51:18.891950Z",
     "shell.execute_reply": "2022-11-12T14:51:18.890854Z"
    },
    "papermill": {
     "duration": 0.272176,
     "end_time": "2022-11-12T14:51:18.894176",
     "exception": false,
     "start_time": "2022-11-12T14:51:18.622000",
     "status": "completed"
    },
    "tags": []
   },
   "outputs": [],
   "source": [
    "#train the model on whole data and save it\n"
   ]
  }
 ],
 "metadata": {
  "kernelspec": {
   "display_name": "Python 3",
   "language": "python",
   "name": "python3"
  },
  "language_info": {
   "codemirror_mode": {
    "name": "ipython",
    "version": 3
   },
   "file_extension": ".py",
   "mimetype": "text/x-python",
   "name": "python",
   "nbconvert_exporter": "python",
   "pygments_lexer": "ipython3",
   "version": "3.7.12"
  },
  "papermill": {
   "default_parameters": {},
   "duration": 17109.029906,
   "end_time": "2022-11-12T14:51:22.403231",
   "environment_variables": {},
   "exception": null,
   "input_path": "__notebook__.ipynb",
   "output_path": "__notebook__.ipynb",
   "parameters": {},
   "start_time": "2022-11-12T10:06:13.373325",
   "version": "2.3.4"
  }
 },
 "nbformat": 4,
 "nbformat_minor": 5
}
