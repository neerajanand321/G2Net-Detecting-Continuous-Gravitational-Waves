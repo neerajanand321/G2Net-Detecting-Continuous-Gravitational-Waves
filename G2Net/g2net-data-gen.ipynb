{
 "cells": [
  {
   "cell_type": "code",
   "execution_count": 1,
   "id": "15a177a1",
   "metadata": {
    "execution": {
     "iopub.execute_input": "2022-12-09T05:22:24.762216Z",
     "iopub.status.busy": "2022-12-09T05:22:24.761548Z",
     "iopub.status.idle": "2022-12-09T05:23:05.950237Z",
     "shell.execute_reply": "2022-12-09T05:23:05.948608Z"
    },
    "papermill": {
     "duration": 41.196587,
     "end_time": "2022-12-09T05:23:05.952996",
     "exception": false,
     "start_time": "2022-12-09T05:22:24.756409",
     "status": "completed"
    },
    "tags": []
   },
   "outputs": [
    {
     "name": "stdout",
     "output_type": "stream",
     "text": [
      "Collecting git+https://github.com/PyFstat/PyFstat@python37\r\n",
      "  Cloning https://github.com/PyFstat/PyFstat (to revision python37) to /tmp/pip-req-build-y34t532e\r\n",
      "  Running command git clone --filter=blob:none --quiet https://github.com/PyFstat/PyFstat /tmp/pip-req-build-y34t532e\r\n",
      "  Running command git checkout -b python37 --track origin/python37\r\n",
      "  Switched to a new branch 'python37'\r\n",
      "  Branch 'python37' set up to track remote branch 'python37' from 'origin'.\r\n",
      "  Resolved https://github.com/PyFstat/PyFstat to commit 73ad1acdc9385a234727abf3eb9f93c9298fc5e5\r\n",
      "  Preparing metadata (setup.py) ... \u001b[?25l-\b \bdone\r\n",
      "\u001b[?25hRequirement already satisfied: attrs in /opt/conda/lib/python3.7/site-packages (from PyFstat==1.18.1+1.73ad1acd.clean) (21.4.0)\r\n",
      "Collecting corner\r\n",
      "  Downloading corner-2.2.1-py3-none-any.whl (15 kB)\r\n",
      "Requirement already satisfied: dill in /opt/conda/lib/python3.7/site-packages (from PyFstat==1.18.1+1.73ad1acd.clean) (0.3.5.1)\r\n",
      "Requirement already satisfied: matplotlib>=2.1 in /opt/conda/lib/python3.7/site-packages (from PyFstat==1.18.1+1.73ad1acd.clean) (3.5.3)\r\n",
      "Requirement already satisfied: numpy in /opt/conda/lib/python3.7/site-packages (from PyFstat==1.18.1+1.73ad1acd.clean) (1.21.6)\r\n",
      "Requirement already satisfied: pathos in /opt/conda/lib/python3.7/site-packages (from PyFstat==1.18.1+1.73ad1acd.clean) (0.2.9)\r\n",
      "Collecting ptemcee\r\n",
      "  Downloading ptemcee-1.0.0.tar.gz (17 kB)\r\n",
      "  Preparing metadata (setup.py) ... \u001b[?25l-\b \bdone\r\n",
      "\u001b[?25hRequirement already satisfied: scipy in /opt/conda/lib/python3.7/site-packages (from PyFstat==1.18.1+1.73ad1acd.clean) (1.7.3)\r\n",
      "Requirement already satisfied: tqdm in /opt/conda/lib/python3.7/site-packages (from PyFstat==1.18.1+1.73ad1acd.clean) (4.64.0)\r\n",
      "Collecting versioneer\r\n",
      "  Downloading versioneer-0.28-py3-none-any.whl (45 kB)\r\n",
      "\u001b[2K     \u001b[90m━━━━━━━━━━━━━━━━━━━━━━━━━━━━━━━━━━━━━━━\u001b[0m \u001b[32m45.3/45.3 kB\u001b[0m \u001b[31m396.7 kB/s\u001b[0m eta \u001b[36m0:00:00\u001b[0m\r\n",
      "\u001b[?25hCollecting lalsuite\r\n",
      "  Downloading lalsuite-7.5-cp37-cp37m-manylinux_2_17_x86_64.manylinux2014_x86_64.whl (48.3 MB)\r\n",
      "\u001b[2K     \u001b[90m━━━━━━━━━━━━━━━━━━━━━━━━━━━━━━━━━━━━━━━━\u001b[0m \u001b[32m48.3/48.3 MB\u001b[0m \u001b[31m17.5 MB/s\u001b[0m eta \u001b[36m0:00:00\u001b[0m\r\n",
      "\u001b[?25hRequirement already satisfied: pillow>=6.2.0 in /opt/conda/lib/python3.7/site-packages (from matplotlib>=2.1->PyFstat==1.18.1+1.73ad1acd.clean) (9.1.1)\r\n",
      "Requirement already satisfied: pyparsing>=2.2.1 in /opt/conda/lib/python3.7/site-packages (from matplotlib>=2.1->PyFstat==1.18.1+1.73ad1acd.clean) (3.0.9)\r\n",
      "Requirement already satisfied: python-dateutil>=2.7 in /opt/conda/lib/python3.7/site-packages (from matplotlib>=2.1->PyFstat==1.18.1+1.73ad1acd.clean) (2.8.2)\r\n",
      "Requirement already satisfied: fonttools>=4.22.0 in /opt/conda/lib/python3.7/site-packages (from matplotlib>=2.1->PyFstat==1.18.1+1.73ad1acd.clean) (4.33.3)\r\n",
      "Requirement already satisfied: kiwisolver>=1.0.1 in /opt/conda/lib/python3.7/site-packages (from matplotlib>=2.1->PyFstat==1.18.1+1.73ad1acd.clean) (1.4.3)\r\n",
      "Requirement already satisfied: cycler>=0.10 in /opt/conda/lib/python3.7/site-packages (from matplotlib>=2.1->PyFstat==1.18.1+1.73ad1acd.clean) (0.11.0)\r\n",
      "Requirement already satisfied: packaging>=20.0 in /opt/conda/lib/python3.7/site-packages (from matplotlib>=2.1->PyFstat==1.18.1+1.73ad1acd.clean) (21.3)\r\n",
      "Collecting ligo-segments\r\n",
      "  Downloading ligo-segments-1.4.0.tar.gz (51 kB)\r\n",
      "\u001b[2K     \u001b[90m━━━━━━━━━━━━━━━━━━━━━━━━━━━━━━━━━━━━━━━━\u001b[0m \u001b[32m51.0/51.0 kB\u001b[0m \u001b[31m4.0 MB/s\u001b[0m eta \u001b[36m0:00:00\u001b[0m\r\n",
      "\u001b[?25h  Preparing metadata (setup.py) ... \u001b[?25l-\b \b\\\b \bdone\r\n",
      "\u001b[?25hCollecting lscsoft-glue\r\n",
      "  Downloading lscsoft-glue-3.0.1.tar.gz (1.4 MB)\r\n",
      "\u001b[2K     \u001b[90m━━━━━━━━━━━━━━━━━━━━━━━━━━━━━━━━━━━━━━━━\u001b[0m \u001b[32m1.4/1.4 MB\u001b[0m \u001b[31m57.0 MB/s\u001b[0m eta \u001b[36m0:00:00\u001b[0m\r\n",
      "\u001b[?25h  Installing build dependencies ... \u001b[?25l-\b \b\\\b \b|\b \b/\b \b-\b \b\\\b \bdone\r\n",
      "\u001b[?25h  Getting requirements to build wheel ... \u001b[?25l-\b \bdone\r\n",
      "\u001b[?25h  Preparing metadata (pyproject.toml) ... \u001b[?25l-\b \bdone\r\n",
      "\u001b[?25hRequirement already satisfied: ppft>=1.7.6.5 in /opt/conda/lib/python3.7/site-packages (from pathos->PyFstat==1.18.1+1.73ad1acd.clean) (1.7.6.5)\r\n",
      "Requirement already satisfied: pox>=0.3.1 in /opt/conda/lib/python3.7/site-packages (from pathos->PyFstat==1.18.1+1.73ad1acd.clean) (0.3.1)\r\n",
      "Requirement already satisfied: multiprocess>=0.70.13 in /opt/conda/lib/python3.7/site-packages (from pathos->PyFstat==1.18.1+1.73ad1acd.clean) (0.70.13)\r\n",
      "Requirement already satisfied: typing-extensions in /opt/conda/lib/python3.7/site-packages (from kiwisolver>=1.0.1->matplotlib>=2.1->PyFstat==1.18.1+1.73ad1acd.clean) (4.4.0)\r\n",
      "Requirement already satisfied: six>=1.7.3 in /opt/conda/lib/python3.7/site-packages (from ppft>=1.7.6.5->pathos->PyFstat==1.18.1+1.73ad1acd.clean) (1.15.0)\r\n",
      "Requirement already satisfied: pyOpenSSL in /opt/conda/lib/python3.7/site-packages (from lscsoft-glue->lalsuite->PyFstat==1.18.1+1.73ad1acd.clean) (22.0.0)\r\n",
      "Collecting pyRXP\r\n",
      "  Downloading pyRXP-3.0.1-cp37-cp37m-manylinux_2_12_x86_64.manylinux2010_x86_64.whl (295 kB)\r\n",
      "\u001b[2K     \u001b[90m━━━━━━━━━━━━━━━━━━━━━━━━━━━━━━━━━━━━━━\u001b[0m \u001b[32m295.5/295.5 kB\u001b[0m \u001b[31m23.3 MB/s\u001b[0m eta \u001b[36m0:00:00\u001b[0m\r\n",
      "\u001b[?25hRequirement already satisfied: cryptography>=35.0 in /opt/conda/lib/python3.7/site-packages (from pyOpenSSL->lscsoft-glue->lalsuite->PyFstat==1.18.1+1.73ad1acd.clean) (37.0.2)\r\n",
      "Requirement already satisfied: cffi>=1.12 in /opt/conda/lib/python3.7/site-packages (from cryptography>=35.0->pyOpenSSL->lscsoft-glue->lalsuite->PyFstat==1.18.1+1.73ad1acd.clean) (1.15.0)\r\n",
      "Requirement already satisfied: pycparser in /opt/conda/lib/python3.7/site-packages (from cffi>=1.12->cryptography>=35.0->pyOpenSSL->lscsoft-glue->lalsuite->PyFstat==1.18.1+1.73ad1acd.clean) (2.21)\r\n",
      "Building wheels for collected packages: PyFstat, ptemcee, ligo-segments, lscsoft-glue\r\n",
      "  Building wheel for PyFstat (setup.py) ... \u001b[?25l-\b \b\\\b \b|\b \bdone\r\n",
      "\u001b[?25h  Created wheel for PyFstat: filename=PyFstat-1.18.1+1.73ad1acd.clean-py3-none-any.whl size=133030 sha256=65d49219b0c11059772ab69c31567d52f588daa5c823c7598e9d84d384c534ff\r\n",
      "  Stored in directory: /tmp/pip-ephem-wheel-cache-70bsqffu/wheels/91/40/c5/23e0320585490e9beb7e3dd53cb507ac39146605cc28240596\r\n",
      "  Building wheel for ptemcee (setup.py) ... \u001b[?25l-\b \bdone\r\n",
      "\u001b[?25h  Created wheel for ptemcee: filename=ptemcee-1.0.0-py3-none-any.whl size=18550 sha256=1c1c5bc942722f6a46d44bfdabc12007930d71b814e257fb24aba651cc38063a\r\n",
      "  Stored in directory: /root/.cache/pip/wheels/5e/5e/c5/9d08b47f943d50924b028f2a9c4b131cc3e025ee7994cea9ae\r\n",
      "  Building wheel for ligo-segments (setup.py) ... \u001b[?25l-\b \b\\\b \b|\b \b/\b \b-\b \b\\\b \bdone\r\n",
      "\u001b[?25h  Created wheel for ligo-segments: filename=ligo_segments-1.4.0-cp37-cp37m-linux_x86_64.whl size=99650 sha256=5894d7ca69f0af2816bdbde35a98f941ab4ca6bb51e992156f67aaa70049108b\r\n",
      "  Stored in directory: /root/.cache/pip/wheels/09/f9/d4/129b3bb4458d50b56fdc8245ace7c8216d54865fe8d3aebc05\r\n",
      "  Building wheel for lscsoft-glue (pyproject.toml) ... \u001b[?25l-\b \b\\\b \b|\b \b/\b \b-\b \b\\\b \b|\b \bdone\r\n",
      "\u001b[?25h  Created wheel for lscsoft-glue: filename=lscsoft_glue-3.0.1-cp37-cp37m-linux_x86_64.whl size=263528 sha256=535e5cc3407552d657d1053b46bba89024a088a235311413b072d4ea65bba8a6\r\n",
      "  Stored in directory: /root/.cache/pip/wheels/62/ad/9a/6e89ceed9887a50c3c227beea125ad58f50b3622fbaf0873bf\r\n",
      "Successfully built PyFstat ptemcee ligo-segments lscsoft-glue\r\n",
      "Installing collected packages: versioneer, pyRXP, ptemcee, ligo-segments, corner, lscsoft-glue, lalsuite, PyFstat\r\n",
      "Successfully installed PyFstat-1.18.1+1.73ad1acd.clean corner-2.2.1 lalsuite-7.5 ligo-segments-1.4.0 lscsoft-glue-3.0.1 ptemcee-1.0.0 pyRXP-3.0.1 versioneer-0.28\r\n",
      "\u001b[33mWARNING: Running pip as the 'root' user can result in broken permissions and conflicting behaviour with the system package manager. It is recommended to use a virtual environment instead: https://pip.pypa.io/warnings/venv\u001b[0m\u001b[33m\r\n",
      "\u001b[0m"
     ]
    }
   ],
   "source": [
    "!pip install git+https://github.com/PyFstat/PyFstat@python37"
   ]
  },
  {
   "cell_type": "code",
   "execution_count": 2,
   "id": "de093ded",
   "metadata": {
    "execution": {
     "iopub.execute_input": "2022-12-09T05:23:05.972584Z",
     "iopub.status.busy": "2022-12-09T05:23:05.972172Z",
     "iopub.status.idle": "2022-12-09T05:23:14.507529Z",
     "shell.execute_reply": "2022-12-09T05:23:14.506070Z"
    },
    "papermill": {
     "duration": 8.548653,
     "end_time": "2022-12-09T05:23:14.510452",
     "exception": false,
     "start_time": "2022-12-09T05:23:05.961799",
     "status": "completed"
    },
    "tags": []
   },
   "outputs": [
    {
     "name": "stdout",
     "output_type": "stream",
     "text": [
      "Requirement already satisfied: h5py in /opt/conda/lib/python3.7/site-packages (3.7.0)\r\n",
      "Requirement already satisfied: numpy>=1.14.5 in /opt/conda/lib/python3.7/site-packages (from h5py) (1.21.6)\r\n",
      "\u001b[33mWARNING: Running pip as the 'root' user can result in broken permissions and conflicting behaviour with the system package manager. It is recommended to use a virtual environment instead: https://pip.pypa.io/warnings/venv\u001b[0m\u001b[33m\r\n",
      "\u001b[0m"
     ]
    }
   ],
   "source": [
    "!pip install h5py"
   ]
  },
  {
   "cell_type": "code",
   "execution_count": 3,
   "id": "172ef9dc",
   "metadata": {
    "execution": {
     "iopub.execute_input": "2022-12-09T05:23:14.529300Z",
     "iopub.status.busy": "2022-12-09T05:23:14.528926Z",
     "iopub.status.idle": "2022-12-09T05:23:20.387921Z",
     "shell.execute_reply": "2022-12-09T05:23:20.386754Z"
    },
    "papermill": {
     "duration": 5.871104,
     "end_time": "2022-12-09T05:23:20.390299",
     "exception": false,
     "start_time": "2022-12-09T05:23:14.519195",
     "status": "completed"
    },
    "tags": []
   },
   "outputs": [],
   "source": [
    "import uuid\n",
    "import h5py\n",
    "import numpy as np\n",
    "import pandas as pd\n",
    "import torch as tc\n",
    "import random\n",
    "import tqdm\n",
    "import pyfstat,sys,os,io,cv2,warnings\n",
    "from pyfstat.utils import get_sft_as_arrays\n",
    "from typing import TYPE_CHECKING, Iterable, Optional\n",
    "import logging,shutil,tqdm\n",
    "import matplotlib.pyplot as plt\n",
    "warnings.filterwarnings(\"ignore\")"
   ]
  },
  {
   "cell_type": "code",
   "execution_count": 4,
   "id": "93943da0",
   "metadata": {
    "execution": {
     "iopub.execute_input": "2022-12-09T05:23:20.409963Z",
     "iopub.status.busy": "2022-12-09T05:23:20.409505Z",
     "iopub.status.idle": "2022-12-09T05:23:20.423013Z",
     "shell.execute_reply": "2022-12-09T05:23:20.421609Z"
    },
    "papermill": {
     "duration": 0.025719,
     "end_time": "2022-12-09T05:23:20.425418",
     "exception": false,
     "start_time": "2022-12-09T05:23:20.399699",
     "status": "completed"
    },
    "tags": []
   },
   "outputs": [],
   "source": [
    "def data_gen(signal_rate):\n",
    "    sft_path = []\n",
    "    pi = 3.141592\n",
    "\n",
    "    tstart = 1238166018\n",
    "    totaldiff = 200000\n",
    "    tdiff = int(random.random() * totaldiff) - (totaldiff / 2)\n",
    "    tstart = tstart - tdiff\n",
    "\n",
    "    f0 = random.random() * (500 - 50) + 50\n",
    "    h0 = random.random() * (100 - 10) + 10\n",
    "\n",
    "    f1 = random.random() * (1.0e-8 - 1.0e-12) + 1.0e-12\n",
    "    alpha = random.random() * (2*pi - 0) + 0\n",
    "    delta = random.random() * ((pi/2) - (-pi/2)) + (-pi/2)\n",
    "    cosi = random.random() * (1 - (-1)) + (-1)\n",
    "    psi = random.random() * ((pi/4) - (-pi/4)) + (-pi/4)\n",
    "    phi = random.random() * ((2*pi) - (0)) + (0)\n",
    "\n",
    "    sqrtSX = 5e-24\n",
    "\n",
    "    band = 0.36\n",
    "    tdur = 7.5 * 86400\n",
    "    signal_kwargs = {\n",
    "        \"outdir\": \"gen_outdir\",\n",
    "        \"tstart\": tstart,\n",
    "        \"duration\": tdur,\n",
    "        \"detectors\": \"H1,L1\",\n",
    "        \"Tsft\": 1800,\n",
    "        \"Band\": band,\n",
    "\n",
    "        \"sqrtSX\": sqrtSX,\n",
    "        \"SFTWindowType\": \"tukey\", \n",
    "        \"SFTWindowBeta\": 0.01,\n",
    "\n",
    "        \"F0\": f0, # 50 to 500\n",
    "    }\n",
    "\n",
    "    signal_writer = pyfstat.Writer( **signal_kwargs )\n",
    "    signal_writer.make_data()        \n",
    "    sft_path.append(signal_writer.sftfilepath)\n",
    "\n",
    "    freqs, times, sft_data = get_sft_as_arrays(\";\".join(sft_path))\n",
    "    if signal_rate == 0:\n",
    "        return freqs, times, sft_data\n",
    "    else:\n",
    "        signal_kwargs2 = {\n",
    "            \"outdir\": \"gen_outdir\",\n",
    "            \"tstart\": tstart,\n",
    "            \"duration\": 7.5 * 86400,\n",
    "            \"detectors\": \"H1,L1\",\n",
    "            \"Tsft\": 1800,\n",
    "            \"Band\": band, \n",
    "\n",
    "            \"sqrtSX\": 0,\n",
    "            \"SFTWindowType\": \"tukey\", \n",
    "            \"SFTWindowBeta\": 0.01,\n",
    "\n",
    "            \"F0\": f0, # 50 to 500\n",
    "\n",
    "            \"h0\": sqrtSX / h0, # div by 10 to 100\n",
    "            \"F1\": f1, # 1.0e-12 to 1.0e-8 (or so; could be to 0)\n",
    "            \"Alpha\": alpha, # 0 to 2pi\n",
    "            \"Delta\": delta, # -pi/2 to pi/2\n",
    "            \"cosi\": cosi, # -1.0 to 1.0\n",
    "            \"psi\": psi, # any (mapped -pi/4 to pi/4)\n",
    "            \"phi\": phi, # any (mapped 0 to 2pi)\n",
    "            \n",
    "            \"noiseSFTs\": \";\".join(sft_path)\n",
    "\n",
    "        }\n",
    "        signal_writer = pyfstat.Writer( **signal_kwargs2 )\n",
    "        signal_writer.make_data()\n",
    "        signal_sft_path = signal_writer.sftfilepath\n",
    "        \n",
    "        freqs, times, sft_data = get_sft_as_arrays(signal_sft_path)\n",
    "        return freqs, times, sft_data"
   ]
  },
  {
   "cell_type": "code",
   "execution_count": 5,
   "id": "e706934c",
   "metadata": {
    "execution": {
     "iopub.execute_input": "2022-12-09T05:23:20.445778Z",
     "iopub.status.busy": "2022-12-09T05:23:20.445234Z",
     "iopub.status.idle": "2022-12-09T05:23:20.451044Z",
     "shell.execute_reply": "2022-12-09T05:23:20.449520Z"
    },
    "papermill": {
     "duration": 0.018987,
     "end_time": "2022-12-09T05:23:20.453546",
     "exception": false,
     "start_time": "2022-12-09T05:23:20.434559",
     "status": "completed"
    },
    "tags": []
   },
   "outputs": [],
   "source": [
    "file_path=\"/kaggle/working/\"\n",
    "try:\n",
    "    os.mkdir(path=file_path+\"data_gen\")\n",
    "except:\n",
    "    shutil.rmtree(file_path+\"data_gen\") #delete folder\n",
    "    os.mkdir(path=file_path+\"data_gen\")"
   ]
  },
  {
   "cell_type": "code",
   "execution_count": 6,
   "id": "25b16c03",
   "metadata": {
    "execution": {
     "iopub.execute_input": "2022-12-09T05:23:20.473067Z",
     "iopub.status.busy": "2022-12-09T05:23:20.472734Z",
     "iopub.status.idle": "2022-12-09T05:23:20.480750Z",
     "shell.execute_reply": "2022-12-09T05:23:20.479744Z"
    },
    "papermill": {
     "duration": 0.019969,
     "end_time": "2022-12-09T05:23:20.482397",
     "exception": false,
     "start_time": "2022-12-09T05:23:20.462428",
     "status": "completed"
    },
    "tags": []
   },
   "outputs": [],
   "source": [
    "data_gen_labels = pd.DataFrame()"
   ]
  },
  {
   "cell_type": "code",
   "execution_count": 7,
   "id": "472bcd0f",
   "metadata": {
    "execution": {
     "iopub.execute_input": "2022-12-09T05:23:20.502622Z",
     "iopub.status.busy": "2022-12-09T05:23:20.502277Z",
     "iopub.status.idle": "2022-12-09T06:26:15.296893Z",
     "shell.execute_reply": "2022-12-09T06:26:15.294566Z"
    },
    "papermill": {
     "duration": 3774.809307,
     "end_time": "2022-12-09T06:26:15.300739",
     "exception": false,
     "start_time": "2022-12-09T05:23:20.491432",
     "status": "completed"
    },
    "tags": []
   },
   "outputs": [
    {
     "name": "stderr",
     "output_type": "stream",
     "text": [
      "100%|██████████| 2000/2000 [1:02:54<00:00,  1.56s/it]"
     ]
    }
   ],
   "source": [
    "idd = []\n",
    "target = []\n",
    "total = 2000\n",
    "time_t = tqdm.tqdm(total=total)\n",
    "for _ in range(total):\n",
    "    ids = uuid.uuid4().hex[:9]     \n",
    "    with h5py.File(\"data_gen/\"+str(ids)+\".hdf5\", 'w') as hf:\n",
    "        if random.random() < 0.5:\n",
    "            freq, time, fourier_data = data_gen(1)\n",
    "            tar = 1\n",
    "        else:\n",
    "            freq, time, fourier_data = data_gen(0)\n",
    "            tar = 0\n",
    "        g = hf.create_group(str(ids))\n",
    "        g.create_dataset('frequency_Hz', data=freq)\n",
    "        g1 = g.create_group('H1')\n",
    "        g2 = g.create_group('L1')\n",
    "        g1.create_dataset('SFTs', data=fourier_data['H1'])\n",
    "        g1.create_dataset('timestamps_GPS', data=time['H1'])\n",
    "        g2.create_dataset('SFTs', data=fourier_data['L1'])\n",
    "        g2.create_dataset('timestamps_GPS', data=time['L1'])\n",
    "    idd.append(ids)\n",
    "    target.append(tar)\n",
    "    time_t.update(1)"
   ]
  },
  {
   "cell_type": "code",
   "execution_count": 8,
   "id": "8bbdb0de",
   "metadata": {
    "execution": {
     "iopub.execute_input": "2022-12-09T06:26:15.579172Z",
     "iopub.status.busy": "2022-12-09T06:26:15.578612Z",
     "iopub.status.idle": "2022-12-09T06:26:15.615947Z",
     "shell.execute_reply": "2022-12-09T06:26:15.614974Z"
    },
    "papermill": {
     "duration": 0.184495,
     "end_time": "2022-12-09T06:26:15.618682",
     "exception": false,
     "start_time": "2022-12-09T06:26:15.434187",
     "status": "completed"
    },
    "tags": []
   },
   "outputs": [],
   "source": [
    "data_gen_labels['id'] = idd\n",
    "data_gen_labels['target'] = target"
   ]
  },
  {
   "cell_type": "code",
   "execution_count": 9,
   "id": "7dd1dcc2",
   "metadata": {
    "execution": {
     "iopub.execute_input": "2022-12-09T06:26:15.846276Z",
     "iopub.status.busy": "2022-12-09T06:26:15.844833Z",
     "iopub.status.idle": "2022-12-09T06:26:15.870432Z",
     "shell.execute_reply": "2022-12-09T06:26:15.868742Z"
    },
    "papermill": {
     "duration": 0.14291,
     "end_time": "2022-12-09T06:26:15.873013",
     "exception": false,
     "start_time": "2022-12-09T06:26:15.730103",
     "status": "completed"
    },
    "tags": []
   },
   "outputs": [],
   "source": [
    "data_gen_labels.to_csv('data_gen_labels.csv', index=False)"
   ]
  },
  {
   "cell_type": "code",
   "execution_count": 10,
   "id": "7512eda2",
   "metadata": {
    "execution": {
     "iopub.execute_input": "2022-12-09T06:26:16.098210Z",
     "iopub.status.busy": "2022-12-09T06:26:16.097635Z",
     "iopub.status.idle": "2022-12-09T06:26:17.547808Z",
     "shell.execute_reply": "2022-12-09T06:26:17.546676Z"
    },
    "papermill": {
     "duration": 1.566343,
     "end_time": "2022-12-09T06:26:17.550339",
     "exception": false,
     "start_time": "2022-12-09T06:26:15.983996",
     "status": "completed"
    },
    "tags": []
   },
   "outputs": [],
   "source": [
    "shutil.rmtree(file_path+'gen_outdir')"
   ]
  }
 ],
 "metadata": {
  "kernelspec": {
   "display_name": "Python 3",
   "language": "python",
   "name": "python3"
  },
  "language_info": {
   "codemirror_mode": {
    "name": "ipython",
    "version": 3
   },
   "file_extension": ".py",
   "mimetype": "text/x-python",
   "name": "python",
   "nbconvert_exporter": "python",
   "pygments_lexer": "ipython3",
   "version": "3.7.12"
  },
  "papermill": {
   "default_parameters": {},
   "duration": 3842.262273,
   "end_time": "2022-12-09T06:26:19.407382",
   "environment_variables": {},
   "exception": null,
   "input_path": "__notebook__.ipynb",
   "output_path": "__notebook__.ipynb",
   "parameters": {},
   "start_time": "2022-12-09T05:22:17.145109",
   "version": "2.3.4"
  }
 },
 "nbformat": 4,
 "nbformat_minor": 5
}
